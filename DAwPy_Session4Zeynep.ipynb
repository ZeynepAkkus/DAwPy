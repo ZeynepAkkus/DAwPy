{
  "nbformat": 4,
  "nbformat_minor": 5,
  "metadata": {
    "kernelspec": {
      "display_name": "Python 3",
      "language": "python",
      "name": "python3"
    },
    "language_info": {
      "codemirror_mode": {
        "name": "ipython",
        "version": 3
      },
      "file_extension": ".py",
      "mimetype": "text/x-python",
      "name": "python",
      "nbconvert_exporter": "python",
      "pygments_lexer": "ipython3",
      "version": "3.8.8"
    },
    "colab": {
      "name": "DAwPy-Session4Zeynep.ipynb",
      "provenance": [],
      "include_colab_link": true
    }
  },
  "cells": [
    {
      "cell_type": "markdown",
      "metadata": {
        "id": "view-in-github",
        "colab_type": "text"
      },
      "source": [
        "<a href=\"https://colab.research.google.com/github/ZeynepAkkus/DAwPy/blob/main/DAwPy_Session4Zeynep.ipynb\" target=\"_parent\"><img src=\"https://colab.research.google.com/assets/colab-badge.svg\" alt=\"Open In Colab\"/></a>"
      ]
    },
    {
      "cell_type": "code",
      "metadata": {
        "id": "b02539f7",
        "outputId": "c221241b-a07e-456f-c9f3-f595a7d4fb4e"
      },
      "source": [
        "%config IPCompleter.greedy=True\n",
        "!pip install ipython --upgrade\n",
        "!pip install jedi\n",
        "!pip3 install jupyter-tabnine\n",
        "!jupyter nbextension install --py jupyter_tabnine\n",
        "!jupyter nbextension enable --py jupyter_tabnine\n",
        "!jupyter serverextension enable --py jupyter_tabnine"
      ],
      "id": "b02539f7",
      "execution_count": null,
      "outputs": [
        {
          "name": "stdout",
          "output_type": "stream",
          "text": [
            "Requirement already satisfied: ipython in c:\\users\\w-10\\anaconda3\\lib\\site-packages (7.28.0)\n",
            "Requirement already satisfied: prompt-toolkit!=3.0.0,!=3.0.1,<3.1.0,>=2.0.0 in c:\\users\\w-10\\anaconda3\\lib\\site-packages (from ipython) (3.0.17)\n",
            "Requirement already satisfied: colorama in c:\\users\\w-10\\anaconda3\\lib\\site-packages (from ipython) (0.4.4)\n",
            "Requirement already satisfied: decorator in c:\\users\\w-10\\anaconda3\\lib\\site-packages (from ipython) (5.0.6)\n",
            "Requirement already satisfied: setuptools>=18.5 in c:\\users\\w-10\\anaconda3\\lib\\site-packages (from ipython) (52.0.0.post20210125)\n",
            "Requirement already satisfied: pygments in c:\\users\\w-10\\anaconda3\\lib\\site-packages (from ipython) (2.8.1)\n",
            "Requirement already satisfied: traitlets>=4.2 in c:\\users\\w-10\\anaconda3\\lib\\site-packages (from ipython) (5.0.5)\n",
            "Requirement already satisfied: jedi>=0.16 in c:\\users\\w-10\\anaconda3\\lib\\site-packages (from ipython) (0.17.2)\n",
            "Requirement already satisfied: pickleshare in c:\\users\\w-10\\anaconda3\\lib\\site-packages (from ipython) (0.7.5)\n",
            "Requirement already satisfied: matplotlib-inline in c:\\users\\w-10\\anaconda3\\lib\\site-packages (from ipython) (0.1.3)\n",
            "Requirement already satisfied: backcall in c:\\users\\w-10\\anaconda3\\lib\\site-packages (from ipython) (0.2.0)\n",
            "Requirement already satisfied: parso<0.8.0,>=0.7.0 in c:\\users\\w-10\\anaconda3\\lib\\site-packages (from jedi>=0.16->ipython) (0.7.0)\n",
            "Requirement already satisfied: wcwidth in c:\\users\\w-10\\anaconda3\\lib\\site-packages (from prompt-toolkit!=3.0.0,!=3.0.1,<3.1.0,>=2.0.0->ipython) (0.2.5)\n",
            "Requirement already satisfied: ipython-genutils in c:\\users\\w-10\\anaconda3\\lib\\site-packages (from traitlets>=4.2->ipython) (0.2.0)\n",
            "Requirement already satisfied: jedi in c:\\users\\w-10\\anaconda3\\lib\\site-packages (0.17.2)\n",
            "Requirement already satisfied: parso<0.8.0,>=0.7.0 in c:\\users\\w-10\\anaconda3\\lib\\site-packages (from jedi) (0.7.0)\n",
            "Requirement already satisfied: jupyter-tabnine in c:\\users\\w-10\\anaconda3\\lib\\site-packages (1.2.3)\n",
            "Requirement already satisfied: nbconvert in c:\\users\\w-10\\anaconda3\\lib\\site-packages (from jupyter-tabnine) (6.0.7)\n",
            "Requirement already satisfied: ipython in c:\\users\\w-10\\anaconda3\\lib\\site-packages (from jupyter-tabnine) (7.28.0)\n",
            "Requirement already satisfied: notebook>=4.2 in c:\\users\\w-10\\anaconda3\\lib\\site-packages (from jupyter-tabnine) (6.3.0)\n",
            "Requirement already satisfied: jupyter-core in c:\\users\\w-10\\anaconda3\\lib\\site-packages (from jupyter-tabnine) (4.7.1)\n",
            "Requirement already satisfied: ipykernel in c:\\users\\w-10\\anaconda3\\lib\\site-packages (from notebook>=4.2->jupyter-tabnine) (5.3.4)\n",
            "Requirement already satisfied: pyzmq>=17 in c:\\users\\w-10\\anaconda3\\lib\\site-packages (from notebook>=4.2->jupyter-tabnine) (20.0.0)\n",
            "Requirement already satisfied: traitlets>=4.2.1 in c:\\users\\w-10\\anaconda3\\lib\\site-packages (from notebook>=4.2->jupyter-tabnine) (5.0.5)\n",
            "Requirement already satisfied: prometheus-client in c:\\users\\w-10\\anaconda3\\lib\\site-packages (from notebook>=4.2->jupyter-tabnine) (0.10.1)\n",
            "Requirement already satisfied: ipython-genutils in c:\\users\\w-10\\anaconda3\\lib\\site-packages (from notebook>=4.2->jupyter-tabnine) (0.2.0)\n",
            "Requirement already satisfied: terminado>=0.8.3 in c:\\users\\w-10\\anaconda3\\lib\\site-packages (from notebook>=4.2->jupyter-tabnine) (0.9.4)\n",
            "Requirement already satisfied: Send2Trash>=1.5.0 in c:\\users\\w-10\\anaconda3\\lib\\site-packages (from notebook>=4.2->jupyter-tabnine) (1.5.0)\n",
            "Requirement already satisfied: tornado>=6.1 in c:\\users\\w-10\\anaconda3\\lib\\site-packages (from notebook>=4.2->jupyter-tabnine) (6.1)\n",
            "Requirement already satisfied: nbformat in c:\\users\\w-10\\anaconda3\\lib\\site-packages (from notebook>=4.2->jupyter-tabnine) (5.1.3)\n",
            "Requirement already satisfied: argon2-cffi in c:\\users\\w-10\\anaconda3\\lib\\site-packages (from notebook>=4.2->jupyter-tabnine) (20.1.0)\n",
            "Requirement already satisfied: jupyter-client>=5.3.4 in c:\\users\\w-10\\anaconda3\\lib\\site-packages (from notebook>=4.2->jupyter-tabnine) (6.1.12)\n",
            "Requirement already satisfied: jinja2 in c:\\users\\w-10\\anaconda3\\lib\\site-packages (from notebook>=4.2->jupyter-tabnine) (2.11.3)\n",
            "Requirement already satisfied: python-dateutil>=2.1 in c:\\users\\w-10\\anaconda3\\lib\\site-packages (from jupyter-client>=5.3.4->notebook>=4.2->jupyter-tabnine) (2.8.1)\n",
            "Requirement already satisfied: pywin32>=1.0 in c:\\users\\w-10\\anaconda3\\lib\\site-packages (from jupyter-core->jupyter-tabnine) (227)\n",
            "Requirement already satisfied: six>=1.5 in c:\\users\\w-10\\anaconda3\\lib\\site-packages (from python-dateutil>=2.1->jupyter-client>=5.3.4->notebook>=4.2->jupyter-tabnine) (1.15.0)\n",
            "Requirement already satisfied: pywinpty>=0.5 in c:\\users\\w-10\\anaconda3\\lib\\site-packages (from terminado>=0.8.3->notebook>=4.2->jupyter-tabnine) (0.5.7)\n",
            "Requirement already satisfied: cffi>=1.0.0 in c:\\users\\w-10\\anaconda3\\lib\\site-packages (from argon2-cffi->notebook>=4.2->jupyter-tabnine) (1.14.5)\n",
            "Requirement already satisfied: pycparser in c:\\users\\w-10\\anaconda3\\lib\\site-packages (from cffi>=1.0.0->argon2-cffi->notebook>=4.2->jupyter-tabnine) (2.20)\n",
            "Requirement already satisfied: decorator in c:\\users\\w-10\\anaconda3\\lib\\site-packages (from ipython->jupyter-tabnine) (5.0.6)\n",
            "Requirement already satisfied: jedi>=0.16 in c:\\users\\w-10\\anaconda3\\lib\\site-packages (from ipython->jupyter-tabnine) (0.17.2)\n",
            "Requirement already satisfied: prompt-toolkit!=3.0.0,!=3.0.1,<3.1.0,>=2.0.0 in c:\\users\\w-10\\anaconda3\\lib\\site-packages (from ipython->jupyter-tabnine) (3.0.17)\n",
            "Requirement already satisfied: pygments in c:\\users\\w-10\\anaconda3\\lib\\site-packages (from ipython->jupyter-tabnine) (2.8.1)\n",
            "Requirement already satisfied: matplotlib-inline in c:\\users\\w-10\\anaconda3\\lib\\site-packages (from ipython->jupyter-tabnine) (0.1.3)\n",
            "Requirement already satisfied: pickleshare in c:\\users\\w-10\\anaconda3\\lib\\site-packages (from ipython->jupyter-tabnine) (0.7.5)\n",
            "Requirement already satisfied: setuptools>=18.5 in c:\\users\\w-10\\anaconda3\\lib\\site-packages (from ipython->jupyter-tabnine) (52.0.0.post20210125)\n",
            "Requirement already satisfied: colorama in c:\\users\\w-10\\anaconda3\\lib\\site-packages (from ipython->jupyter-tabnine) (0.4.4)\n",
            "Requirement already satisfied: backcall in c:\\users\\w-10\\anaconda3\\lib\\site-packages (from ipython->jupyter-tabnine) (0.2.0)\n",
            "Requirement already satisfied: parso<0.8.0,>=0.7.0 in c:\\users\\w-10\\anaconda3\\lib\\site-packages (from jedi>=0.16->ipython->jupyter-tabnine) (0.7.0)\n",
            "Requirement already satisfied: wcwidth in c:\\users\\w-10\\anaconda3\\lib\\site-packages (from prompt-toolkit!=3.0.0,!=3.0.1,<3.1.0,>=2.0.0->ipython->jupyter-tabnine) (0.2.5)\n",
            "Requirement already satisfied: MarkupSafe>=0.23 in c:\\users\\w-10\\anaconda3\\lib\\site-packages (from jinja2->notebook>=4.2->jupyter-tabnine) (1.1.1)\n",
            "Requirement already satisfied: entrypoints>=0.2.2 in c:\\users\\w-10\\anaconda3\\lib\\site-packages (from nbconvert->jupyter-tabnine) (0.3)\n",
            "Requirement already satisfied: mistune<2,>=0.8.1 in c:\\users\\w-10\\anaconda3\\lib\\site-packages (from nbconvert->jupyter-tabnine) (0.8.4)\n",
            "Requirement already satisfied: bleach in c:\\users\\w-10\\anaconda3\\lib\\site-packages (from nbconvert->jupyter-tabnine) (3.3.0)\n",
            "Requirement already satisfied: defusedxml in c:\\users\\w-10\\anaconda3\\lib\\site-packages (from nbconvert->jupyter-tabnine) (0.7.1)\n",
            "Requirement already satisfied: testpath in c:\\users\\w-10\\anaconda3\\lib\\site-packages (from nbconvert->jupyter-tabnine) (0.4.4)\n",
            "Requirement already satisfied: nbclient<0.6.0,>=0.5.0 in c:\\users\\w-10\\anaconda3\\lib\\site-packages (from nbconvert->jupyter-tabnine) (0.5.3)\n",
            "Requirement already satisfied: jupyterlab-pygments in c:\\users\\w-10\\anaconda3\\lib\\site-packages (from nbconvert->jupyter-tabnine) (0.1.2)\n",
            "Requirement already satisfied: pandocfilters>=1.4.1 in c:\\users\\w-10\\anaconda3\\lib\\site-packages (from nbconvert->jupyter-tabnine) (1.4.3)\n",
            "Requirement already satisfied: nest-asyncio in c:\\users\\w-10\\anaconda3\\lib\\site-packages (from nbclient<0.6.0,>=0.5.0->nbconvert->jupyter-tabnine) (1.5.1)\n",
            "Requirement already satisfied: async-generator in c:\\users\\w-10\\anaconda3\\lib\\site-packages (from nbclient<0.6.0,>=0.5.0->nbconvert->jupyter-tabnine) (1.10)\n",
            "Requirement already satisfied: jsonschema!=2.5.0,>=2.4 in c:\\users\\w-10\\anaconda3\\lib\\site-packages (from nbformat->notebook>=4.2->jupyter-tabnine) (3.2.0)\n",
            "Requirement already satisfied: pyrsistent>=0.14.0 in c:\\users\\w-10\\anaconda3\\lib\\site-packages (from jsonschema!=2.5.0,>=2.4->nbformat->notebook>=4.2->jupyter-tabnine) (0.17.3)\n",
            "Requirement already satisfied: attrs>=17.4.0 in c:\\users\\w-10\\anaconda3\\lib\\site-packages (from jsonschema!=2.5.0,>=2.4->nbformat->notebook>=4.2->jupyter-tabnine) (20.3.0)\n",
            "Requirement already satisfied: webencodings in c:\\users\\w-10\\anaconda3\\lib\\site-packages (from bleach->nbconvert->jupyter-tabnine) (0.5.1)\n",
            "Requirement already satisfied: packaging in c:\\users\\w-10\\anaconda3\\lib\\site-packages (from bleach->nbconvert->jupyter-tabnine) (20.9)\n",
            "Requirement already satisfied: pyparsing>=2.0.2 in c:\\users\\w-10\\anaconda3\\lib\\site-packages (from packaging->bleach->nbconvert->jupyter-tabnine) (2.4.7)\n"
          ]
        },
        {
          "name": "stderr",
          "output_type": "stream",
          "text": [
            "Installing C:\\Users\\W-10\\anaconda3\\lib\\site-packages\\jupyter_tabnine\\static -> jupyter_tabnine\n",
            "Up to date: C:\\ProgramData\\jupyter\\nbextensions\\jupyter_tabnine\\main.css\n",
            "Up to date: C:\\ProgramData\\jupyter\\nbextensions\\jupyter_tabnine\\main.js\n",
            "Up to date: C:\\ProgramData\\jupyter\\nbextensions\\jupyter_tabnine\\README.md\n",
            "Up to date: C:\\ProgramData\\jupyter\\nbextensions\\jupyter_tabnine\\tabnine.yaml\n",
            "- Validating: ok\n",
            "\n",
            "    To initialize this nbextension in the browser every time the notebook (or other app) loads:\n",
            "    \n",
            "          jupyter nbextension enable jupyter_tabnine --py\n",
            "    \n",
            "Enabling notebook extension jupyter_tabnine/main...\n",
            "      - Validating: ok\n",
            "Enabling: jupyter_tabnine\n",
            "- Writing config: C:\\Users\\W-10\\.jupyter\n",
            "    - Validating...\n",
            "      jupyter_tabnine  ok\n"
          ]
        }
      ]
    },
    {
      "cell_type": "code",
      "metadata": {
        "id": "1e67eae4",
        "outputId": "88c3beb4-e3a5-46b0-9215-a763f9c750bf"
      },
      "source": [
        "df = pd.read_csv(\"data/missingData.csv\")\n",
        "df"
      ],
      "id": "1e67eae4",
      "execution_count": null,
      "outputs": [
        {
          "ename": "FileNotFoundError",
          "evalue": "[Errno 2] No such file or directory: 'data/missingData.csv'",
          "output_type": "error",
          "traceback": [
            "\u001b[1;31m---------------------------------------------------------------------------\u001b[0m",
            "\u001b[1;31mFileNotFoundError\u001b[0m                         Traceback (most recent call last)",
            "\u001b[1;32m<ipython-input-22-d7b6f50ca4eb>\u001b[0m in \u001b[0;36m<module>\u001b[1;34m\u001b[0m\n\u001b[1;32m----> 1\u001b[1;33m \u001b[0mdf\u001b[0m \u001b[1;33m=\u001b[0m \u001b[0mpd\u001b[0m\u001b[1;33m.\u001b[0m\u001b[0mread_csv\u001b[0m\u001b[1;33m(\u001b[0m\u001b[1;34m\"data/missingData.csv\"\u001b[0m\u001b[1;33m)\u001b[0m\u001b[1;33m\u001b[0m\u001b[1;33m\u001b[0m\u001b[0m\n\u001b[0m\u001b[0;32m      2\u001b[0m \u001b[0mdf\u001b[0m\u001b[1;33m\u001b[0m\u001b[1;33m\u001b[0m\u001b[0m\n",
            "\u001b[1;32m~\\anaconda3\\lib\\site-packages\\pandas\\io\\parsers.py\u001b[0m in \u001b[0;36mread_csv\u001b[1;34m(filepath_or_buffer, sep, delimiter, header, names, index_col, usecols, squeeze, prefix, mangle_dupe_cols, dtype, engine, converters, true_values, false_values, skipinitialspace, skiprows, skipfooter, nrows, na_values, keep_default_na, na_filter, verbose, skip_blank_lines, parse_dates, infer_datetime_format, keep_date_col, date_parser, dayfirst, cache_dates, iterator, chunksize, compression, thousands, decimal, lineterminator, quotechar, quoting, doublequote, escapechar, comment, encoding, dialect, error_bad_lines, warn_bad_lines, delim_whitespace, low_memory, memory_map, float_precision, storage_options)\u001b[0m\n\u001b[0;32m    608\u001b[0m     \u001b[0mkwds\u001b[0m\u001b[1;33m.\u001b[0m\u001b[0mupdate\u001b[0m\u001b[1;33m(\u001b[0m\u001b[0mkwds_defaults\u001b[0m\u001b[1;33m)\u001b[0m\u001b[1;33m\u001b[0m\u001b[1;33m\u001b[0m\u001b[0m\n\u001b[0;32m    609\u001b[0m \u001b[1;33m\u001b[0m\u001b[0m\n\u001b[1;32m--> 610\u001b[1;33m     \u001b[1;32mreturn\u001b[0m \u001b[0m_read\u001b[0m\u001b[1;33m(\u001b[0m\u001b[0mfilepath_or_buffer\u001b[0m\u001b[1;33m,\u001b[0m \u001b[0mkwds\u001b[0m\u001b[1;33m)\u001b[0m\u001b[1;33m\u001b[0m\u001b[1;33m\u001b[0m\u001b[0m\n\u001b[0m\u001b[0;32m    611\u001b[0m \u001b[1;33m\u001b[0m\u001b[0m\n\u001b[0;32m    612\u001b[0m \u001b[1;33m\u001b[0m\u001b[0m\n",
            "\u001b[1;32m~\\anaconda3\\lib\\site-packages\\pandas\\io\\parsers.py\u001b[0m in \u001b[0;36m_read\u001b[1;34m(filepath_or_buffer, kwds)\u001b[0m\n\u001b[0;32m    460\u001b[0m \u001b[1;33m\u001b[0m\u001b[0m\n\u001b[0;32m    461\u001b[0m     \u001b[1;31m# Create the parser.\u001b[0m\u001b[1;33m\u001b[0m\u001b[1;33m\u001b[0m\u001b[1;33m\u001b[0m\u001b[0m\n\u001b[1;32m--> 462\u001b[1;33m     \u001b[0mparser\u001b[0m \u001b[1;33m=\u001b[0m \u001b[0mTextFileReader\u001b[0m\u001b[1;33m(\u001b[0m\u001b[0mfilepath_or_buffer\u001b[0m\u001b[1;33m,\u001b[0m \u001b[1;33m**\u001b[0m\u001b[0mkwds\u001b[0m\u001b[1;33m)\u001b[0m\u001b[1;33m\u001b[0m\u001b[1;33m\u001b[0m\u001b[0m\n\u001b[0m\u001b[0;32m    463\u001b[0m \u001b[1;33m\u001b[0m\u001b[0m\n\u001b[0;32m    464\u001b[0m     \u001b[1;32mif\u001b[0m \u001b[0mchunksize\u001b[0m \u001b[1;32mor\u001b[0m \u001b[0miterator\u001b[0m\u001b[1;33m:\u001b[0m\u001b[1;33m\u001b[0m\u001b[1;33m\u001b[0m\u001b[0m\n",
            "\u001b[1;32m~\\anaconda3\\lib\\site-packages\\pandas\\io\\parsers.py\u001b[0m in \u001b[0;36m__init__\u001b[1;34m(self, f, engine, **kwds)\u001b[0m\n\u001b[0;32m    817\u001b[0m             \u001b[0mself\u001b[0m\u001b[1;33m.\u001b[0m\u001b[0moptions\u001b[0m\u001b[1;33m[\u001b[0m\u001b[1;34m\"has_index_names\"\u001b[0m\u001b[1;33m]\u001b[0m \u001b[1;33m=\u001b[0m \u001b[0mkwds\u001b[0m\u001b[1;33m[\u001b[0m\u001b[1;34m\"has_index_names\"\u001b[0m\u001b[1;33m]\u001b[0m\u001b[1;33m\u001b[0m\u001b[1;33m\u001b[0m\u001b[0m\n\u001b[0;32m    818\u001b[0m \u001b[1;33m\u001b[0m\u001b[0m\n\u001b[1;32m--> 819\u001b[1;33m         \u001b[0mself\u001b[0m\u001b[1;33m.\u001b[0m\u001b[0m_engine\u001b[0m \u001b[1;33m=\u001b[0m \u001b[0mself\u001b[0m\u001b[1;33m.\u001b[0m\u001b[0m_make_engine\u001b[0m\u001b[1;33m(\u001b[0m\u001b[0mself\u001b[0m\u001b[1;33m.\u001b[0m\u001b[0mengine\u001b[0m\u001b[1;33m)\u001b[0m\u001b[1;33m\u001b[0m\u001b[1;33m\u001b[0m\u001b[0m\n\u001b[0m\u001b[0;32m    820\u001b[0m \u001b[1;33m\u001b[0m\u001b[0m\n\u001b[0;32m    821\u001b[0m     \u001b[1;32mdef\u001b[0m \u001b[0mclose\u001b[0m\u001b[1;33m(\u001b[0m\u001b[0mself\u001b[0m\u001b[1;33m)\u001b[0m\u001b[1;33m:\u001b[0m\u001b[1;33m\u001b[0m\u001b[1;33m\u001b[0m\u001b[0m\n",
            "\u001b[1;32m~\\anaconda3\\lib\\site-packages\\pandas\\io\\parsers.py\u001b[0m in \u001b[0;36m_make_engine\u001b[1;34m(self, engine)\u001b[0m\n\u001b[0;32m   1048\u001b[0m             )\n\u001b[0;32m   1049\u001b[0m         \u001b[1;31m# error: Too many arguments for \"ParserBase\"\u001b[0m\u001b[1;33m\u001b[0m\u001b[1;33m\u001b[0m\u001b[1;33m\u001b[0m\u001b[0m\n\u001b[1;32m-> 1050\u001b[1;33m         \u001b[1;32mreturn\u001b[0m \u001b[0mmapping\u001b[0m\u001b[1;33m[\u001b[0m\u001b[0mengine\u001b[0m\u001b[1;33m]\u001b[0m\u001b[1;33m(\u001b[0m\u001b[0mself\u001b[0m\u001b[1;33m.\u001b[0m\u001b[0mf\u001b[0m\u001b[1;33m,\u001b[0m \u001b[1;33m**\u001b[0m\u001b[0mself\u001b[0m\u001b[1;33m.\u001b[0m\u001b[0moptions\u001b[0m\u001b[1;33m)\u001b[0m  \u001b[1;31m# type: ignore[call-arg]\u001b[0m\u001b[1;33m\u001b[0m\u001b[1;33m\u001b[0m\u001b[0m\n\u001b[0m\u001b[0;32m   1051\u001b[0m \u001b[1;33m\u001b[0m\u001b[0m\n\u001b[0;32m   1052\u001b[0m     \u001b[1;32mdef\u001b[0m \u001b[0m_failover_to_python\u001b[0m\u001b[1;33m(\u001b[0m\u001b[0mself\u001b[0m\u001b[1;33m)\u001b[0m\u001b[1;33m:\u001b[0m\u001b[1;33m\u001b[0m\u001b[1;33m\u001b[0m\u001b[0m\n",
            "\u001b[1;32m~\\anaconda3\\lib\\site-packages\\pandas\\io\\parsers.py\u001b[0m in \u001b[0;36m__init__\u001b[1;34m(self, src, **kwds)\u001b[0m\n\u001b[0;32m   1865\u001b[0m \u001b[1;33m\u001b[0m\u001b[0m\n\u001b[0;32m   1866\u001b[0m         \u001b[1;31m# open handles\u001b[0m\u001b[1;33m\u001b[0m\u001b[1;33m\u001b[0m\u001b[1;33m\u001b[0m\u001b[0m\n\u001b[1;32m-> 1867\u001b[1;33m         \u001b[0mself\u001b[0m\u001b[1;33m.\u001b[0m\u001b[0m_open_handles\u001b[0m\u001b[1;33m(\u001b[0m\u001b[0msrc\u001b[0m\u001b[1;33m,\u001b[0m \u001b[0mkwds\u001b[0m\u001b[1;33m)\u001b[0m\u001b[1;33m\u001b[0m\u001b[1;33m\u001b[0m\u001b[0m\n\u001b[0m\u001b[0;32m   1868\u001b[0m         \u001b[1;32massert\u001b[0m \u001b[0mself\u001b[0m\u001b[1;33m.\u001b[0m\u001b[0mhandles\u001b[0m \u001b[1;32mis\u001b[0m \u001b[1;32mnot\u001b[0m \u001b[1;32mNone\u001b[0m\u001b[1;33m\u001b[0m\u001b[1;33m\u001b[0m\u001b[0m\n\u001b[0;32m   1869\u001b[0m         \u001b[1;32mfor\u001b[0m \u001b[0mkey\u001b[0m \u001b[1;32min\u001b[0m \u001b[1;33m(\u001b[0m\u001b[1;34m\"storage_options\"\u001b[0m\u001b[1;33m,\u001b[0m \u001b[1;34m\"encoding\"\u001b[0m\u001b[1;33m,\u001b[0m \u001b[1;34m\"memory_map\"\u001b[0m\u001b[1;33m,\u001b[0m \u001b[1;34m\"compression\"\u001b[0m\u001b[1;33m)\u001b[0m\u001b[1;33m:\u001b[0m\u001b[1;33m\u001b[0m\u001b[1;33m\u001b[0m\u001b[0m\n",
            "\u001b[1;32m~\\anaconda3\\lib\\site-packages\\pandas\\io\\parsers.py\u001b[0m in \u001b[0;36m_open_handles\u001b[1;34m(self, src, kwds)\u001b[0m\n\u001b[0;32m   1360\u001b[0m         \u001b[0mLet\u001b[0m \u001b[0mthe\u001b[0m \u001b[0mreaders\u001b[0m \u001b[0mopen\u001b[0m \u001b[0mIOHanldes\u001b[0m \u001b[0mafter\u001b[0m \u001b[0mthey\u001b[0m \u001b[0mare\u001b[0m \u001b[0mdone\u001b[0m \u001b[1;32mwith\u001b[0m \u001b[0mtheir\u001b[0m \u001b[0mpotential\u001b[0m \u001b[0mraises\u001b[0m\u001b[1;33m.\u001b[0m\u001b[1;33m\u001b[0m\u001b[1;33m\u001b[0m\u001b[0m\n\u001b[0;32m   1361\u001b[0m         \"\"\"\n\u001b[1;32m-> 1362\u001b[1;33m         self.handles = get_handle(\n\u001b[0m\u001b[0;32m   1363\u001b[0m             \u001b[0msrc\u001b[0m\u001b[1;33m,\u001b[0m\u001b[1;33m\u001b[0m\u001b[1;33m\u001b[0m\u001b[0m\n\u001b[0;32m   1364\u001b[0m             \u001b[1;34m\"r\"\u001b[0m\u001b[1;33m,\u001b[0m\u001b[1;33m\u001b[0m\u001b[1;33m\u001b[0m\u001b[0m\n",
            "\u001b[1;32m~\\anaconda3\\lib\\site-packages\\pandas\\io\\common.py\u001b[0m in \u001b[0;36mget_handle\u001b[1;34m(path_or_buf, mode, encoding, compression, memory_map, is_text, errors, storage_options)\u001b[0m\n\u001b[0;32m    640\u001b[0m                 \u001b[0merrors\u001b[0m \u001b[1;33m=\u001b[0m \u001b[1;34m\"replace\"\u001b[0m\u001b[1;33m\u001b[0m\u001b[1;33m\u001b[0m\u001b[0m\n\u001b[0;32m    641\u001b[0m             \u001b[1;31m# Encoding\u001b[0m\u001b[1;33m\u001b[0m\u001b[1;33m\u001b[0m\u001b[1;33m\u001b[0m\u001b[0m\n\u001b[1;32m--> 642\u001b[1;33m             handle = open(\n\u001b[0m\u001b[0;32m    643\u001b[0m                 \u001b[0mhandle\u001b[0m\u001b[1;33m,\u001b[0m\u001b[1;33m\u001b[0m\u001b[1;33m\u001b[0m\u001b[0m\n\u001b[0;32m    644\u001b[0m                 \u001b[0mioargs\u001b[0m\u001b[1;33m.\u001b[0m\u001b[0mmode\u001b[0m\u001b[1;33m,\u001b[0m\u001b[1;33m\u001b[0m\u001b[1;33m\u001b[0m\u001b[0m\n",
            "\u001b[1;31mFileNotFoundError\u001b[0m: [Errno 2] No such file or directory: 'data/missingData.csv'"
          ]
        }
      ]
    },
    {
      "cell_type": "markdown",
      "metadata": {
        "id": "cb9533c7"
      },
      "source": [
        "import pandas as pd"
      ],
      "id": "cb9533c7"
    },
    {
      "cell_type": "code",
      "metadata": {
        "id": "b6d704ca"
      },
      "source": [
        "import pandas as pd"
      ],
      "id": "b6d704ca",
      "execution_count": null,
      "outputs": []
    },
    {
      "cell_type": "code",
      "metadata": {
        "id": "abfdae58"
      },
      "source": [
        "import numpy as np"
      ],
      "id": "abfdae58",
      "execution_count": null,
      "outputs": []
    },
    {
      "cell_type": "code",
      "metadata": {
        "id": "18372d9a"
      },
      "source": [
        "import seaborn as sns"
      ],
      "id": "18372d9a",
      "execution_count": null,
      "outputs": []
    },
    {
      "cell_type": "markdown",
      "metadata": {
        "id": "5871f441"
      },
      "source": [
        ""
      ],
      "id": "5871f441"
    },
    {
      "cell_type": "code",
      "metadata": {
        "id": "e1b6037b"
      },
      "source": [
        "import matplotlib.pyplot as plt\n",
        "%matplotlib inline"
      ],
      "id": "e1b6037b",
      "execution_count": null,
      "outputs": []
    },
    {
      "cell_type": "code",
      "metadata": {
        "id": "255c8a71"
      },
      "source": [
        "data = [1,3,5,7,9]"
      ],
      "id": "255c8a71",
      "execution_count": null,
      "outputs": []
    },
    {
      "cell_type": "code",
      "metadata": {
        "id": "1747d840",
        "outputId": "1747fe2c-de88-4366-b538-155f3fc50830"
      },
      "source": [
        "data"
      ],
      "id": "1747d840",
      "execution_count": null,
      "outputs": [
        {
          "data": {
            "text/plain": [
              "[1, 3, 5, 7, 9]"
            ]
          },
          "execution_count": 11,
          "metadata": {},
          "output_type": "execute_result"
        }
      ]
    },
    {
      "cell_type": "code",
      "metadata": {
        "id": "26e701be",
        "outputId": "1b7a1168-8e2a-4687-fbfb-0eb49f62bca7"
      },
      "source": [
        "pd.DataFrame(data,columns=[\"col1\"])"
      ],
      "id": "26e701be",
      "execution_count": null,
      "outputs": [
        {
          "data": {
            "text/html": [
              "<div>\n",
              "<style scoped>\n",
              "    .dataframe tbody tr th:only-of-type {\n",
              "        vertical-align: middle;\n",
              "    }\n",
              "\n",
              "    .dataframe tbody tr th {\n",
              "        vertical-align: top;\n",
              "    }\n",
              "\n",
              "    .dataframe thead th {\n",
              "        text-align: right;\n",
              "    }\n",
              "</style>\n",
              "<table border=\"1\" class=\"dataframe\">\n",
              "  <thead>\n",
              "    <tr style=\"text-align: right;\">\n",
              "      <th></th>\n",
              "      <th>col1</th>\n",
              "    </tr>\n",
              "  </thead>\n",
              "  <tbody>\n",
              "    <tr>\n",
              "      <th>0</th>\n",
              "      <td>1</td>\n",
              "    </tr>\n",
              "    <tr>\n",
              "      <th>1</th>\n",
              "      <td>3</td>\n",
              "    </tr>\n",
              "    <tr>\n",
              "      <th>2</th>\n",
              "      <td>5</td>\n",
              "    </tr>\n",
              "    <tr>\n",
              "      <th>3</th>\n",
              "      <td>7</td>\n",
              "    </tr>\n",
              "    <tr>\n",
              "      <th>4</th>\n",
              "      <td>9</td>\n",
              "    </tr>\n",
              "  </tbody>\n",
              "</table>\n",
              "</div>"
            ],
            "text/plain": [
              "   col1\n",
              "0     1\n",
              "1     3\n",
              "2     5\n",
              "3     7\n",
              "4     9"
            ]
          },
          "execution_count": 12,
          "metadata": {},
          "output_type": "execute_result"
        }
      ]
    },
    {
      "cell_type": "code",
      "metadata": {
        "id": "0761401f",
        "outputId": "25fa3867-9976-4a9c-a60f-e235d976d6c9"
      },
      "source": [
        "pd.Series(data)"
      ],
      "id": "0761401f",
      "execution_count": null,
      "outputs": [
        {
          "data": {
            "text/plain": [
              "0    1\n",
              "1    3\n",
              "2    5\n",
              "3    7\n",
              "4    9\n",
              "dtype: int64"
            ]
          },
          "execution_count": 13,
          "metadata": {},
          "output_type": "execute_result"
        }
      ]
    },
    {
      "cell_type": "code",
      "metadata": {
        "id": "3a19eac7"
      },
      "source": [
        "# ikisinin farkı pandas series de şuan için sadece 1 tane coloumn var \n",
        "#pandasseries de col ismi yok dataframede col ismi vardır data fram seriesin gelişmiş hali diyebiliriz"
      ],
      "id": "3a19eac7",
      "execution_count": null,
      "outputs": []
    },
    {
      "cell_type": "code",
      "metadata": {
        "id": "d98bbe58",
        "outputId": "e3d57908-752b-4c91-d61a-a071767f969c"
      },
      "source": [
        "data2= np.arange(1,24,2).reshape(3,4)\n",
        "data2"
      ],
      "id": "d98bbe58",
      "execution_count": null,
      "outputs": [
        {
          "data": {
            "text/plain": [
              "array([[ 1,  3,  5,  7],\n",
              "       [ 9, 11, 13, 15],\n",
              "       [17, 19, 21, 23]])"
            ]
          },
          "execution_count": 15,
          "metadata": {},
          "output_type": "execute_result"
        }
      ]
    },
    {
      "cell_type": "code",
      "metadata": {
        "id": "721af22c",
        "outputId": "9157dab0-9446-429e-bf41-d1bb02b1985f"
      },
      "source": [
        "pd.DataFrame(data2,columns =[\"col1\",\"col2\",\"col3\",\"col4\"])"
      ],
      "id": "721af22c",
      "execution_count": null,
      "outputs": [
        {
          "data": {
            "text/html": [
              "<div>\n",
              "<style scoped>\n",
              "    .dataframe tbody tr th:only-of-type {\n",
              "        vertical-align: middle;\n",
              "    }\n",
              "\n",
              "    .dataframe tbody tr th {\n",
              "        vertical-align: top;\n",
              "    }\n",
              "\n",
              "    .dataframe thead th {\n",
              "        text-align: right;\n",
              "    }\n",
              "</style>\n",
              "<table border=\"1\" class=\"dataframe\">\n",
              "  <thead>\n",
              "    <tr style=\"text-align: right;\">\n",
              "      <th></th>\n",
              "      <th>col1</th>\n",
              "      <th>col2</th>\n",
              "      <th>col3</th>\n",
              "      <th>col4</th>\n",
              "    </tr>\n",
              "  </thead>\n",
              "  <tbody>\n",
              "    <tr>\n",
              "      <th>0</th>\n",
              "      <td>1</td>\n",
              "      <td>3</td>\n",
              "      <td>5</td>\n",
              "      <td>7</td>\n",
              "    </tr>\n",
              "    <tr>\n",
              "      <th>1</th>\n",
              "      <td>9</td>\n",
              "      <td>11</td>\n",
              "      <td>13</td>\n",
              "      <td>15</td>\n",
              "    </tr>\n",
              "    <tr>\n",
              "      <th>2</th>\n",
              "      <td>17</td>\n",
              "      <td>19</td>\n",
              "      <td>21</td>\n",
              "      <td>23</td>\n",
              "    </tr>\n",
              "  </tbody>\n",
              "</table>\n",
              "</div>"
            ],
            "text/plain": [
              "   col1  col2  col3  col4\n",
              "0     1     3     5     7\n",
              "1     9    11    13    15\n",
              "2    17    19    21    23"
            ]
          },
          "execution_count": 16,
          "metadata": {},
          "output_type": "execute_result"
        }
      ]
    },
    {
      "cell_type": "code",
      "metadata": {
        "id": "f7de2b49"
      },
      "source": [
        "df = pd.DataFrame(data2,columns =[\"col1\",\"col2\",\"col3\",\"col4\"],index=[\"a\",\"b\",\"c\"])"
      ],
      "id": "f7de2b49",
      "execution_count": null,
      "outputs": []
    },
    {
      "cell_type": "code",
      "metadata": {
        "id": "a7562c5c",
        "outputId": "b54b2bd2-3717-4a29-ec9c-08774ef24cb6"
      },
      "source": [
        "type(df)"
      ],
      "id": "a7562c5c",
      "execution_count": null,
      "outputs": [
        {
          "data": {
            "text/plain": [
              "pandas.core.frame.DataFrame"
            ]
          },
          "execution_count": 27,
          "metadata": {},
          "output_type": "execute_result"
        }
      ]
    },
    {
      "cell_type": "code",
      "metadata": {
        "id": "8dc2c122",
        "outputId": "d8b99121-0ad8-4195-da49-bc34bc000c0d"
      },
      "source": [
        "df.size\n"
      ],
      "id": "8dc2c122",
      "execution_count": null,
      "outputs": [
        {
          "ename": "NameError",
          "evalue": "name 'df' is not defined",
          "output_type": "error",
          "traceback": [
            "\u001b[1;31m---------------------------------------------------------------------------\u001b[0m",
            "\u001b[1;31mNameError\u001b[0m                                 Traceback (most recent call last)",
            "\u001b[1;32m<ipython-input-25-600bcb0c72f9>\u001b[0m in \u001b[0;36m<module>\u001b[1;34m\u001b[0m\n\u001b[1;32m----> 1\u001b[1;33m \u001b[0mdf\u001b[0m\u001b[1;33m.\u001b[0m\u001b[0msize\u001b[0m\u001b[1;33m\u001b[0m\u001b[1;33m\u001b[0m\u001b[0m\n\u001b[0m",
            "\u001b[1;31mNameError\u001b[0m: name 'df' is not defined"
          ]
        }
      ]
    },
    {
      "cell_type": "code",
      "metadata": {
        "id": "a7b0d47b",
        "outputId": "bea9619d-191b-4a31-b9e9-84736141c26f"
      },
      "source": [
        "df.ndim"
      ],
      "id": "a7b0d47b",
      "execution_count": null,
      "outputs": [
        {
          "data": {
            "text/plain": [
              "2"
            ]
          },
          "execution_count": 28,
          "metadata": {},
          "output_type": "execute_result"
        }
      ]
    },
    {
      "cell_type": "code",
      "metadata": {
        "id": "8e2d362d",
        "outputId": "a0755c0a-b54d-4e3e-bfb0-9832b41cf141"
      },
      "source": [
        "df.index"
      ],
      "id": "8e2d362d",
      "execution_count": null,
      "outputs": [
        {
          "data": {
            "text/plain": [
              "Index(['a', 'b', 'c'], dtype='object')"
            ]
          },
          "execution_count": 29,
          "metadata": {},
          "output_type": "execute_result"
        }
      ]
    },
    {
      "cell_type": "code",
      "metadata": {
        "id": "f8ba69b8",
        "outputId": "200a81c2-0c1d-4499-e101-607ec5595a0e"
      },
      "source": [
        "df.columns"
      ],
      "id": "f8ba69b8",
      "execution_count": null,
      "outputs": [
        {
          "data": {
            "text/plain": [
              "Index(['col1', 'col2', 'col3', 'col4'], dtype='object')"
            ]
          },
          "execution_count": 30,
          "metadata": {},
          "output_type": "execute_result"
        }
      ]
    },
    {
      "cell_type": "code",
      "metadata": {
        "id": "8c4429c0",
        "outputId": "fbcd039c-d686-48cb-e9f2-595101ded0b2"
      },
      "source": [
        "df.values"
      ],
      "id": "8c4429c0",
      "execution_count": null,
      "outputs": [
        {
          "data": {
            "text/plain": [
              "array([[ 1,  3,  5,  7],\n",
              "       [ 9, 11, 13, 15],\n",
              "       [17, 19, 21, 23]])"
            ]
          },
          "execution_count": 31,
          "metadata": {},
          "output_type": "execute_result"
        }
      ]
    },
    {
      "cell_type": "code",
      "metadata": {
        "id": "8782d799",
        "outputId": "5e506d5e-411a-4d52-dc51-c12d364203da"
      },
      "source": [
        "len(df)"
      ],
      "id": "8782d799",
      "execution_count": null,
      "outputs": [
        {
          "data": {
            "text/plain": [
              "3"
            ]
          },
          "execution_count": 32,
          "metadata": {},
          "output_type": "execute_result"
        }
      ]
    },
    {
      "cell_type": "code",
      "metadata": {
        "id": "6a988420",
        "outputId": "8a4b00e7-3763-4abb-d530-0c38d2833050"
      },
      "source": [
        "df.keys()"
      ],
      "id": "6a988420",
      "execution_count": null,
      "outputs": [
        {
          "data": {
            "text/plain": [
              "Index(['col1', 'col2', 'col3', 'col4'], dtype='object')"
            ]
          },
          "execution_count": 33,
          "metadata": {},
          "output_type": "execute_result"
        }
      ]
    },
    {
      "cell_type": "code",
      "metadata": {
        "id": "0b402ae1",
        "outputId": "90dd2804-c7e4-47c1-a31f-592d8abad184"
      },
      "source": [
        "df"
      ],
      "id": "0b402ae1",
      "execution_count": null,
      "outputs": [
        {
          "data": {
            "text/html": [
              "<div>\n",
              "<style scoped>\n",
              "    .dataframe tbody tr th:only-of-type {\n",
              "        vertical-align: middle;\n",
              "    }\n",
              "\n",
              "    .dataframe tbody tr th {\n",
              "        vertical-align: top;\n",
              "    }\n",
              "\n",
              "    .dataframe thead th {\n",
              "        text-align: right;\n",
              "    }\n",
              "</style>\n",
              "<table border=\"1\" class=\"dataframe\">\n",
              "  <thead>\n",
              "    <tr style=\"text-align: right;\">\n",
              "      <th></th>\n",
              "      <th>col1</th>\n",
              "      <th>col2</th>\n",
              "      <th>col3</th>\n",
              "      <th>col4</th>\n",
              "    </tr>\n",
              "  </thead>\n",
              "  <tbody>\n",
              "    <tr>\n",
              "      <th>a</th>\n",
              "      <td>1</td>\n",
              "      <td>3</td>\n",
              "      <td>5</td>\n",
              "      <td>7</td>\n",
              "    </tr>\n",
              "    <tr>\n",
              "      <th>b</th>\n",
              "      <td>9</td>\n",
              "      <td>11</td>\n",
              "      <td>13</td>\n",
              "      <td>15</td>\n",
              "    </tr>\n",
              "    <tr>\n",
              "      <th>c</th>\n",
              "      <td>17</td>\n",
              "      <td>19</td>\n",
              "      <td>21</td>\n",
              "      <td>23</td>\n",
              "    </tr>\n",
              "  </tbody>\n",
              "</table>\n",
              "</div>"
            ],
            "text/plain": [
              "   col1  col2  col3  col4\n",
              "a     1     3     5     7\n",
              "b     9    11    13    15\n",
              "c    17    19    21    23"
            ]
          },
          "execution_count": 34,
          "metadata": {},
          "output_type": "execute_result"
        }
      ]
    },
    {
      "cell_type": "code",
      "metadata": {
        "id": "2db315c2",
        "outputId": "e9a4b486-fa9c-4403-a264-6ed3f3815a98"
      },
      "source": [
        "df.col1"
      ],
      "id": "2db315c2",
      "execution_count": null,
      "outputs": [
        {
          "data": {
            "text/plain": [
              "a     1\n",
              "b     9\n",
              "c    17\n",
              "Name: col1, dtype: int32"
            ]
          },
          "execution_count": 35,
          "metadata": {},
          "output_type": "execute_result"
        }
      ]
    },
    {
      "cell_type": "code",
      "metadata": {
        "id": "c70c7d20",
        "outputId": "8d500e78-5b8a-4eb7-bfd9-83195c4412c3"
      },
      "source": [
        "df[\"col1\"]"
      ],
      "id": "c70c7d20",
      "execution_count": null,
      "outputs": [
        {
          "data": {
            "text/plain": [
              "a     1\n",
              "b     9\n",
              "c    17\n",
              "Name: col1, dtype: int32"
            ]
          },
          "execution_count": 36,
          "metadata": {},
          "output_type": "execute_result"
        }
      ]
    },
    {
      "cell_type": "code",
      "metadata": {
        "id": "98483641",
        "outputId": "a1595871-cbf9-400f-9c70-992e99b8fb0d"
      },
      "source": [
        "df.mean()"
      ],
      "id": "98483641",
      "execution_count": null,
      "outputs": [
        {
          "data": {
            "text/plain": [
              "col1     9.0\n",
              "col2    11.0\n",
              "col3    13.0\n",
              "col4    15.0\n",
              "dtype: float64"
            ]
          },
          "execution_count": 38,
          "metadata": {},
          "output_type": "execute_result"
        }
      ]
    },
    {
      "cell_type": "code",
      "metadata": {
        "id": "99b09cf9"
      },
      "source": [
        "s1 = np.random.randint(2,10, size = 40)\n",
        "s2 = np.random.randint(30,100, size = 40)\n",
        "s3 = np.random.randint(100,150, size = 40)"
      ],
      "id": "99b09cf9",
      "execution_count": null,
      "outputs": []
    },
    {
      "cell_type": "code",
      "metadata": {
        "id": "630e1871",
        "outputId": "7b8cd77e-e5d6-434d-811b-74ed2ab7b6c6"
      },
      "source": [
        "s1"
      ],
      "id": "630e1871",
      "execution_count": null,
      "outputs": [
        {
          "data": {
            "text/plain": [
              "array([8, 5, 6, 5, 3, 8, 5, 2, 2, 6, 5, 6, 8, 7, 3, 9, 5, 7, 3, 8, 4, 4,\n",
              "       2, 6, 9, 7, 3, 5, 8, 8, 8, 5, 7, 7, 8, 2, 3, 3, 5, 4])"
            ]
          },
          "execution_count": 40,
          "metadata": {},
          "output_type": "execute_result"
        }
      ]
    },
    {
      "cell_type": "code",
      "metadata": {
        "id": "2b4bd54f"
      },
      "source": [
        "myDict = {\"var\":s1, \"var2\":s2,\"var3\":s3}"
      ],
      "id": "2b4bd54f",
      "execution_count": null,
      "outputs": []
    },
    {
      "cell_type": "code",
      "metadata": {
        "id": "4b75cfca",
        "outputId": "a3d09061-709e-407a-870a-f4be915e23d0"
      },
      "source": [
        "myDict"
      ],
      "id": "4b75cfca",
      "execution_count": null,
      "outputs": [
        {
          "data": {
            "text/plain": [
              "{'var': array([8, 5, 6, 5, 3, 8, 5, 2, 2, 6, 5, 6, 8, 7, 3, 9, 5, 7, 3, 8, 4, 4,\n",
              "        2, 6, 9, 7, 3, 5, 8, 8, 8, 5, 7, 7, 8, 2, 3, 3, 5, 4]),\n",
              " 'var2': array([76, 45, 81, 46, 34, 62, 49, 96, 63, 85, 49, 32, 79, 51, 60, 55, 36,\n",
              "        58, 76, 39, 84, 45, 58, 56, 99, 42, 40, 58, 87, 31, 54, 30, 83, 53,\n",
              "        84, 84, 67, 60, 53, 88]),\n",
              " 'var3': array([110, 105, 119, 126, 118, 112, 102, 123, 114, 100, 129, 131, 109,\n",
              "        111, 137, 140, 112, 103, 127, 114, 135, 113, 116, 135, 137, 139,\n",
              "        109, 116, 124, 110, 129, 120, 113, 100, 137, 112, 124, 101, 119,\n",
              "        126])}"
            ]
          },
          "execution_count": 44,
          "metadata": {},
          "output_type": "execute_result"
        }
      ]
    },
    {
      "cell_type": "code",
      "metadata": {
        "id": "a5036bd9"
      },
      "source": [
        "dfDict = pd.DataFrame(myDict)"
      ],
      "id": "a5036bd9",
      "execution_count": null,
      "outputs": []
    },
    {
      "cell_type": "code",
      "metadata": {
        "id": "3203438c",
        "outputId": "94b2347a-a1cc-4ea3-c944-13ecc8f22724"
      },
      "source": [
        "dfDict"
      ],
      "id": "3203438c",
      "execution_count": null,
      "outputs": [
        {
          "data": {
            "text/html": [
              "<div>\n",
              "<style scoped>\n",
              "    .dataframe tbody tr th:only-of-type {\n",
              "        vertical-align: middle;\n",
              "    }\n",
              "\n",
              "    .dataframe tbody tr th {\n",
              "        vertical-align: top;\n",
              "    }\n",
              "\n",
              "    .dataframe thead th {\n",
              "        text-align: right;\n",
              "    }\n",
              "</style>\n",
              "<table border=\"1\" class=\"dataframe\">\n",
              "  <thead>\n",
              "    <tr style=\"text-align: right;\">\n",
              "      <th></th>\n",
              "      <th>var</th>\n",
              "      <th>var2</th>\n",
              "      <th>var3</th>\n",
              "    </tr>\n",
              "  </thead>\n",
              "  <tbody>\n",
              "    <tr>\n",
              "      <th>0</th>\n",
              "      <td>8</td>\n",
              "      <td>76</td>\n",
              "      <td>110</td>\n",
              "    </tr>\n",
              "    <tr>\n",
              "      <th>1</th>\n",
              "      <td>5</td>\n",
              "      <td>45</td>\n",
              "      <td>105</td>\n",
              "    </tr>\n",
              "    <tr>\n",
              "      <th>2</th>\n",
              "      <td>6</td>\n",
              "      <td>81</td>\n",
              "      <td>119</td>\n",
              "    </tr>\n",
              "    <tr>\n",
              "      <th>3</th>\n",
              "      <td>5</td>\n",
              "      <td>46</td>\n",
              "      <td>126</td>\n",
              "    </tr>\n",
              "    <tr>\n",
              "      <th>4</th>\n",
              "      <td>3</td>\n",
              "      <td>34</td>\n",
              "      <td>118</td>\n",
              "    </tr>\n",
              "    <tr>\n",
              "      <th>5</th>\n",
              "      <td>8</td>\n",
              "      <td>62</td>\n",
              "      <td>112</td>\n",
              "    </tr>\n",
              "    <tr>\n",
              "      <th>6</th>\n",
              "      <td>5</td>\n",
              "      <td>49</td>\n",
              "      <td>102</td>\n",
              "    </tr>\n",
              "    <tr>\n",
              "      <th>7</th>\n",
              "      <td>2</td>\n",
              "      <td>96</td>\n",
              "      <td>123</td>\n",
              "    </tr>\n",
              "    <tr>\n",
              "      <th>8</th>\n",
              "      <td>2</td>\n",
              "      <td>63</td>\n",
              "      <td>114</td>\n",
              "    </tr>\n",
              "    <tr>\n",
              "      <th>9</th>\n",
              "      <td>6</td>\n",
              "      <td>85</td>\n",
              "      <td>100</td>\n",
              "    </tr>\n",
              "    <tr>\n",
              "      <th>10</th>\n",
              "      <td>5</td>\n",
              "      <td>49</td>\n",
              "      <td>129</td>\n",
              "    </tr>\n",
              "    <tr>\n",
              "      <th>11</th>\n",
              "      <td>6</td>\n",
              "      <td>32</td>\n",
              "      <td>131</td>\n",
              "    </tr>\n",
              "    <tr>\n",
              "      <th>12</th>\n",
              "      <td>8</td>\n",
              "      <td>79</td>\n",
              "      <td>109</td>\n",
              "    </tr>\n",
              "    <tr>\n",
              "      <th>13</th>\n",
              "      <td>7</td>\n",
              "      <td>51</td>\n",
              "      <td>111</td>\n",
              "    </tr>\n",
              "    <tr>\n",
              "      <th>14</th>\n",
              "      <td>3</td>\n",
              "      <td>60</td>\n",
              "      <td>137</td>\n",
              "    </tr>\n",
              "    <tr>\n",
              "      <th>15</th>\n",
              "      <td>9</td>\n",
              "      <td>55</td>\n",
              "      <td>140</td>\n",
              "    </tr>\n",
              "    <tr>\n",
              "      <th>16</th>\n",
              "      <td>5</td>\n",
              "      <td>36</td>\n",
              "      <td>112</td>\n",
              "    </tr>\n",
              "    <tr>\n",
              "      <th>17</th>\n",
              "      <td>7</td>\n",
              "      <td>58</td>\n",
              "      <td>103</td>\n",
              "    </tr>\n",
              "    <tr>\n",
              "      <th>18</th>\n",
              "      <td>3</td>\n",
              "      <td>76</td>\n",
              "      <td>127</td>\n",
              "    </tr>\n",
              "    <tr>\n",
              "      <th>19</th>\n",
              "      <td>8</td>\n",
              "      <td>39</td>\n",
              "      <td>114</td>\n",
              "    </tr>\n",
              "    <tr>\n",
              "      <th>20</th>\n",
              "      <td>4</td>\n",
              "      <td>84</td>\n",
              "      <td>135</td>\n",
              "    </tr>\n",
              "    <tr>\n",
              "      <th>21</th>\n",
              "      <td>4</td>\n",
              "      <td>45</td>\n",
              "      <td>113</td>\n",
              "    </tr>\n",
              "    <tr>\n",
              "      <th>22</th>\n",
              "      <td>2</td>\n",
              "      <td>58</td>\n",
              "      <td>116</td>\n",
              "    </tr>\n",
              "    <tr>\n",
              "      <th>23</th>\n",
              "      <td>6</td>\n",
              "      <td>56</td>\n",
              "      <td>135</td>\n",
              "    </tr>\n",
              "    <tr>\n",
              "      <th>24</th>\n",
              "      <td>9</td>\n",
              "      <td>99</td>\n",
              "      <td>137</td>\n",
              "    </tr>\n",
              "    <tr>\n",
              "      <th>25</th>\n",
              "      <td>7</td>\n",
              "      <td>42</td>\n",
              "      <td>139</td>\n",
              "    </tr>\n",
              "    <tr>\n",
              "      <th>26</th>\n",
              "      <td>3</td>\n",
              "      <td>40</td>\n",
              "      <td>109</td>\n",
              "    </tr>\n",
              "    <tr>\n",
              "      <th>27</th>\n",
              "      <td>5</td>\n",
              "      <td>58</td>\n",
              "      <td>116</td>\n",
              "    </tr>\n",
              "    <tr>\n",
              "      <th>28</th>\n",
              "      <td>8</td>\n",
              "      <td>87</td>\n",
              "      <td>124</td>\n",
              "    </tr>\n",
              "    <tr>\n",
              "      <th>29</th>\n",
              "      <td>8</td>\n",
              "      <td>31</td>\n",
              "      <td>110</td>\n",
              "    </tr>\n",
              "    <tr>\n",
              "      <th>30</th>\n",
              "      <td>8</td>\n",
              "      <td>54</td>\n",
              "      <td>129</td>\n",
              "    </tr>\n",
              "    <tr>\n",
              "      <th>31</th>\n",
              "      <td>5</td>\n",
              "      <td>30</td>\n",
              "      <td>120</td>\n",
              "    </tr>\n",
              "    <tr>\n",
              "      <th>32</th>\n",
              "      <td>7</td>\n",
              "      <td>83</td>\n",
              "      <td>113</td>\n",
              "    </tr>\n",
              "    <tr>\n",
              "      <th>33</th>\n",
              "      <td>7</td>\n",
              "      <td>53</td>\n",
              "      <td>100</td>\n",
              "    </tr>\n",
              "    <tr>\n",
              "      <th>34</th>\n",
              "      <td>8</td>\n",
              "      <td>84</td>\n",
              "      <td>137</td>\n",
              "    </tr>\n",
              "    <tr>\n",
              "      <th>35</th>\n",
              "      <td>2</td>\n",
              "      <td>84</td>\n",
              "      <td>112</td>\n",
              "    </tr>\n",
              "    <tr>\n",
              "      <th>36</th>\n",
              "      <td>3</td>\n",
              "      <td>67</td>\n",
              "      <td>124</td>\n",
              "    </tr>\n",
              "    <tr>\n",
              "      <th>37</th>\n",
              "      <td>3</td>\n",
              "      <td>60</td>\n",
              "      <td>101</td>\n",
              "    </tr>\n",
              "    <tr>\n",
              "      <th>38</th>\n",
              "      <td>5</td>\n",
              "      <td>53</td>\n",
              "      <td>119</td>\n",
              "    </tr>\n",
              "    <tr>\n",
              "      <th>39</th>\n",
              "      <td>4</td>\n",
              "      <td>88</td>\n",
              "      <td>126</td>\n",
              "    </tr>\n",
              "  </tbody>\n",
              "</table>\n",
              "</div>"
            ],
            "text/plain": [
              "    var  var2  var3\n",
              "0     8    76   110\n",
              "1     5    45   105\n",
              "2     6    81   119\n",
              "3     5    46   126\n",
              "4     3    34   118\n",
              "5     8    62   112\n",
              "6     5    49   102\n",
              "7     2    96   123\n",
              "8     2    63   114\n",
              "9     6    85   100\n",
              "10    5    49   129\n",
              "11    6    32   131\n",
              "12    8    79   109\n",
              "13    7    51   111\n",
              "14    3    60   137\n",
              "15    9    55   140\n",
              "16    5    36   112\n",
              "17    7    58   103\n",
              "18    3    76   127\n",
              "19    8    39   114\n",
              "20    4    84   135\n",
              "21    4    45   113\n",
              "22    2    58   116\n",
              "23    6    56   135\n",
              "24    9    99   137\n",
              "25    7    42   139\n",
              "26    3    40   109\n",
              "27    5    58   116\n",
              "28    8    87   124\n",
              "29    8    31   110\n",
              "30    8    54   129\n",
              "31    5    30   120\n",
              "32    7    83   113\n",
              "33    7    53   100\n",
              "34    8    84   137\n",
              "35    2    84   112\n",
              "36    3    67   124\n",
              "37    3    60   101\n",
              "38    5    53   119\n",
              "39    4    88   126"
            ]
          },
          "execution_count": 48,
          "metadata": {},
          "output_type": "execute_result"
        }
      ]
    },
    {
      "cell_type": "code",
      "metadata": {
        "id": "2d5c41b2",
        "outputId": "7eed0b94-b339-47dd-82d4-3296ade28af9"
      },
      "source": [
        "dfDict[3:5]"
      ],
      "id": "2d5c41b2",
      "execution_count": null,
      "outputs": [
        {
          "data": {
            "text/html": [
              "<div>\n",
              "<style scoped>\n",
              "    .dataframe tbody tr th:only-of-type {\n",
              "        vertical-align: middle;\n",
              "    }\n",
              "\n",
              "    .dataframe tbody tr th {\n",
              "        vertical-align: top;\n",
              "    }\n",
              "\n",
              "    .dataframe thead th {\n",
              "        text-align: right;\n",
              "    }\n",
              "</style>\n",
              "<table border=\"1\" class=\"dataframe\">\n",
              "  <thead>\n",
              "    <tr style=\"text-align: right;\">\n",
              "      <th></th>\n",
              "      <th>var</th>\n",
              "      <th>var2</th>\n",
              "      <th>var3</th>\n",
              "    </tr>\n",
              "  </thead>\n",
              "  <tbody>\n",
              "    <tr>\n",
              "      <th>3</th>\n",
              "      <td>5</td>\n",
              "      <td>46</td>\n",
              "      <td>126</td>\n",
              "    </tr>\n",
              "    <tr>\n",
              "      <th>4</th>\n",
              "      <td>3</td>\n",
              "      <td>34</td>\n",
              "      <td>118</td>\n",
              "    </tr>\n",
              "  </tbody>\n",
              "</table>\n",
              "</div>"
            ],
            "text/plain": [
              "   var  var2  var3\n",
              "3    5    46   126\n",
              "4    3    34   118"
            ]
          },
          "execution_count": 49,
          "metadata": {},
          "output_type": "execute_result"
        }
      ]
    },
    {
      "cell_type": "code",
      "metadata": {
        "id": "19732e91",
        "outputId": "cb069ee5-43ec-4816-f0a8-affae52847bb"
      },
      "source": [
        "dfDict2 = dfDict[3:5]\n",
        "dfDict2"
      ],
      "id": "19732e91",
      "execution_count": null,
      "outputs": [
        {
          "data": {
            "text/html": [
              "<div>\n",
              "<style scoped>\n",
              "    .dataframe tbody tr th:only-of-type {\n",
              "        vertical-align: middle;\n",
              "    }\n",
              "\n",
              "    .dataframe tbody tr th {\n",
              "        vertical-align: top;\n",
              "    }\n",
              "\n",
              "    .dataframe thead th {\n",
              "        text-align: right;\n",
              "    }\n",
              "</style>\n",
              "<table border=\"1\" class=\"dataframe\">\n",
              "  <thead>\n",
              "    <tr style=\"text-align: right;\">\n",
              "      <th></th>\n",
              "      <th>var</th>\n",
              "      <th>var2</th>\n",
              "      <th>var3</th>\n",
              "    </tr>\n",
              "  </thead>\n",
              "  <tbody>\n",
              "    <tr>\n",
              "      <th>3</th>\n",
              "      <td>5</td>\n",
              "      <td>46</td>\n",
              "      <td>126</td>\n",
              "    </tr>\n",
              "    <tr>\n",
              "      <th>4</th>\n",
              "      <td>3</td>\n",
              "      <td>34</td>\n",
              "      <td>118</td>\n",
              "    </tr>\n",
              "  </tbody>\n",
              "</table>\n",
              "</div>"
            ],
            "text/plain": [
              "   var  var2  var3\n",
              "3    5    46   126\n",
              "4    3    34   118"
            ]
          },
          "execution_count": 50,
          "metadata": {},
          "output_type": "execute_result"
        }
      ]
    },
    {
      "cell_type": "code",
      "metadata": {
        "id": "32cbd008",
        "outputId": "bb0a10f5-e713-4fa9-83d8-a3f0887a1c25"
      },
      "source": [
        "dfDict2.index = [\"a\",\"b\"]\n",
        "dfDict2"
      ],
      "id": "32cbd008",
      "execution_count": null,
      "outputs": [
        {
          "data": {
            "text/html": [
              "<div>\n",
              "<style scoped>\n",
              "    .dataframe tbody tr th:only-of-type {\n",
              "        vertical-align: middle;\n",
              "    }\n",
              "\n",
              "    .dataframe tbody tr th {\n",
              "        vertical-align: top;\n",
              "    }\n",
              "\n",
              "    .dataframe thead th {\n",
              "        text-align: right;\n",
              "    }\n",
              "</style>\n",
              "<table border=\"1\" class=\"dataframe\">\n",
              "  <thead>\n",
              "    <tr style=\"text-align: right;\">\n",
              "      <th></th>\n",
              "      <th>var</th>\n",
              "      <th>var2</th>\n",
              "      <th>var3</th>\n",
              "    </tr>\n",
              "  </thead>\n",
              "  <tbody>\n",
              "    <tr>\n",
              "      <th>a</th>\n",
              "      <td>5</td>\n",
              "      <td>46</td>\n",
              "      <td>126</td>\n",
              "    </tr>\n",
              "    <tr>\n",
              "      <th>b</th>\n",
              "      <td>3</td>\n",
              "      <td>34</td>\n",
              "      <td>118</td>\n",
              "    </tr>\n",
              "  </tbody>\n",
              "</table>\n",
              "</div>"
            ],
            "text/plain": [
              "   var  var2  var3\n",
              "a    5    46   126\n",
              "b    3    34   118"
            ]
          },
          "execution_count": 51,
          "metadata": {},
          "output_type": "execute_result"
        }
      ]
    },
    {
      "cell_type": "code",
      "metadata": {
        "id": "b95a4047",
        "outputId": "95b7a7a8-c4f1-4f40-b144-81692cf710e9"
      },
      "source": [
        "dfDict2.columns = [\"X\",\"Y\",\"Z\"]\n",
        "dfDict2"
      ],
      "id": "b95a4047",
      "execution_count": null,
      "outputs": [
        {
          "data": {
            "text/html": [
              "<div>\n",
              "<style scoped>\n",
              "    .dataframe tbody tr th:only-of-type {\n",
              "        vertical-align: middle;\n",
              "    }\n",
              "\n",
              "    .dataframe tbody tr th {\n",
              "        vertical-align: top;\n",
              "    }\n",
              "\n",
              "    .dataframe thead th {\n",
              "        text-align: right;\n",
              "    }\n",
              "</style>\n",
              "<table border=\"1\" class=\"dataframe\">\n",
              "  <thead>\n",
              "    <tr style=\"text-align: right;\">\n",
              "      <th></th>\n",
              "      <th>X</th>\n",
              "      <th>Y</th>\n",
              "      <th>Z</th>\n",
              "    </tr>\n",
              "  </thead>\n",
              "  <tbody>\n",
              "    <tr>\n",
              "      <th>a</th>\n",
              "      <td>5</td>\n",
              "      <td>46</td>\n",
              "      <td>126</td>\n",
              "    </tr>\n",
              "    <tr>\n",
              "      <th>b</th>\n",
              "      <td>3</td>\n",
              "      <td>34</td>\n",
              "      <td>118</td>\n",
              "    </tr>\n",
              "  </tbody>\n",
              "</table>\n",
              "</div>"
            ],
            "text/plain": [
              "   X   Y    Z\n",
              "a  5  46  126\n",
              "b  3  34  118"
            ]
          },
          "execution_count": 52,
          "metadata": {},
          "output_type": "execute_result"
        }
      ]
    },
    {
      "cell_type": "code",
      "metadata": {
        "id": "b49664ff"
      },
      "source": [
        "pd.DataFrame(dfDict2.values,index=[\"c\",\"d\"])"
      ],
      "id": "b49664ff",
      "execution_count": null,
      "outputs": []
    },
    {
      "cell_type": "code",
      "metadata": {
        "id": "e2156097",
        "outputId": "c9289134-febd-4e5b-abdd-5e05d3d522ca"
      },
      "source": [
        "np.random.randn(5,4)"
      ],
      "id": "e2156097",
      "execution_count": null,
      "outputs": [
        {
          "data": {
            "text/plain": [
              "array([[-0.62369585,  0.56157134,  0.70861269,  0.25595418],\n",
              "       [-0.22701176, -1.41945069, -1.91007035,  0.4993322 ],\n",
              "       [ 0.51431496, -0.39611194, -1.64615926,  0.09996907],\n",
              "       [ 0.7699185 , -2.77969291, -0.02637496,  2.15827688],\n",
              "       [-0.29438506,  1.88366506,  0.81352781,  0.6024995 ]])"
            ]
          },
          "execution_count": 53,
          "metadata": {},
          "output_type": "execute_result"
        }
      ]
    },
    {
      "cell_type": "code",
      "metadata": {
        "id": "3043fb43"
      },
      "source": [
        "np.random.seed(101)"
      ],
      "id": "3043fb43",
      "execution_count": null,
      "outputs": []
    },
    {
      "cell_type": "code",
      "metadata": {
        "id": "90f1f95e",
        "outputId": "e42eb3f2-b78c-4ceb-928f-3231c17f990a"
      },
      "source": [
        "np.random.randn(5,4)"
      ],
      "id": "90f1f95e",
      "execution_count": null,
      "outputs": [
        {
          "data": {
            "text/plain": [
              "array([[ 2.70684984,  0.62813271,  0.90796945,  0.50382575],\n",
              "       [ 0.65111795, -0.31931804, -0.84807698,  0.60596535],\n",
              "       [-2.01816824,  0.74012206,  0.52881349, -0.58900053],\n",
              "       [ 0.18869531, -0.75887206, -0.93323722,  0.95505651],\n",
              "       [ 0.19079432,  1.97875732,  2.60596728,  0.68350889]])"
            ]
          },
          "execution_count": 55,
          "metadata": {},
          "output_type": "execute_result"
        }
      ]
    },
    {
      "cell_type": "code",
      "metadata": {
        "id": "98fe1fee",
        "outputId": "6f97e517-b0af-45e3-e606-a532dd3323c6"
      },
      "source": [
        "np.random.seed(101)\n",
        "df3 = pd.DataFrame(  np.random.randn(5,4),\n",
        "                   index = ['A', 'B', 'C', 'D', 'E'],\n",
        "                   columns = 'W X Y Z'.split())\n",
        "df3"
      ],
      "id": "98fe1fee",
      "execution_count": null,
      "outputs": [
        {
          "data": {
            "text/html": [
              "<div>\n",
              "<style scoped>\n",
              "    .dataframe tbody tr th:only-of-type {\n",
              "        vertical-align: middle;\n",
              "    }\n",
              "\n",
              "    .dataframe tbody tr th {\n",
              "        vertical-align: top;\n",
              "    }\n",
              "\n",
              "    .dataframe thead th {\n",
              "        text-align: right;\n",
              "    }\n",
              "</style>\n",
              "<table border=\"1\" class=\"dataframe\">\n",
              "  <thead>\n",
              "    <tr style=\"text-align: right;\">\n",
              "      <th></th>\n",
              "      <th>W</th>\n",
              "      <th>X</th>\n",
              "      <th>Y</th>\n",
              "      <th>Z</th>\n",
              "    </tr>\n",
              "  </thead>\n",
              "  <tbody>\n",
              "    <tr>\n",
              "      <th>A</th>\n",
              "      <td>2.706850</td>\n",
              "      <td>0.628133</td>\n",
              "      <td>0.907969</td>\n",
              "      <td>0.503826</td>\n",
              "    </tr>\n",
              "    <tr>\n",
              "      <th>B</th>\n",
              "      <td>0.651118</td>\n",
              "      <td>-0.319318</td>\n",
              "      <td>-0.848077</td>\n",
              "      <td>0.605965</td>\n",
              "    </tr>\n",
              "    <tr>\n",
              "      <th>C</th>\n",
              "      <td>-2.018168</td>\n",
              "      <td>0.740122</td>\n",
              "      <td>0.528813</td>\n",
              "      <td>-0.589001</td>\n",
              "    </tr>\n",
              "    <tr>\n",
              "      <th>D</th>\n",
              "      <td>0.188695</td>\n",
              "      <td>-0.758872</td>\n",
              "      <td>-0.933237</td>\n",
              "      <td>0.955057</td>\n",
              "    </tr>\n",
              "    <tr>\n",
              "      <th>E</th>\n",
              "      <td>0.190794</td>\n",
              "      <td>1.978757</td>\n",
              "      <td>2.605967</td>\n",
              "      <td>0.683509</td>\n",
              "    </tr>\n",
              "  </tbody>\n",
              "</table>\n",
              "</div>"
            ],
            "text/plain": [
              "          W         X         Y         Z\n",
              "A  2.706850  0.628133  0.907969  0.503826\n",
              "B  0.651118 -0.319318 -0.848077  0.605965\n",
              "C -2.018168  0.740122  0.528813 -0.589001\n",
              "D  0.188695 -0.758872 -0.933237  0.955057\n",
              "E  0.190794  1.978757  2.605967  0.683509"
            ]
          },
          "execution_count": 60,
          "metadata": {},
          "output_type": "execute_result"
        }
      ]
    },
    {
      "cell_type": "code",
      "metadata": {
        "id": "fdf97fa1",
        "outputId": "650cde0e-fd69-4208-9009-c7aceabab395"
      },
      "source": [
        "df3[\"W\"]"
      ],
      "id": "fdf97fa1",
      "execution_count": null,
      "outputs": [
        {
          "data": {
            "text/plain": [
              "A    2.706850\n",
              "B    0.651118\n",
              "C   -2.018168\n",
              "D    0.188695\n",
              "E    0.190794\n",
              "Name: W, dtype: float64"
            ]
          },
          "execution_count": 61,
          "metadata": {},
          "output_type": "execute_result"
        }
      ]
    },
    {
      "cell_type": "code",
      "metadata": {
        "id": "bb7318e2",
        "outputId": "d5379c93-c096-4ca1-94bb-1c00fd9dcab7"
      },
      "source": [
        "df3.W"
      ],
      "id": "bb7318e2",
      "execution_count": null,
      "outputs": [
        {
          "data": {
            "text/plain": [
              "A    2.706850\n",
              "B    0.651118\n",
              "C   -2.018168\n",
              "D    0.188695\n",
              "E    0.190794\n",
              "Name: W, dtype: float64"
            ]
          },
          "execution_count": 62,
          "metadata": {},
          "output_type": "execute_result"
        }
      ]
    },
    {
      "cell_type": "code",
      "metadata": {
        "id": "b3b7db8e",
        "outputId": "92ed7884-2612-43d3-9823-2fe1c8f274d6"
      },
      "source": [
        "df3[[\"W\"]]"
      ],
      "id": "b3b7db8e",
      "execution_count": null,
      "outputs": [
        {
          "data": {
            "text/html": [
              "<div>\n",
              "<style scoped>\n",
              "    .dataframe tbody tr th:only-of-type {\n",
              "        vertical-align: middle;\n",
              "    }\n",
              "\n",
              "    .dataframe tbody tr th {\n",
              "        vertical-align: top;\n",
              "    }\n",
              "\n",
              "    .dataframe thead th {\n",
              "        text-align: right;\n",
              "    }\n",
              "</style>\n",
              "<table border=\"1\" class=\"dataframe\">\n",
              "  <thead>\n",
              "    <tr style=\"text-align: right;\">\n",
              "      <th></th>\n",
              "      <th>W</th>\n",
              "    </tr>\n",
              "  </thead>\n",
              "  <tbody>\n",
              "    <tr>\n",
              "      <th>A</th>\n",
              "      <td>2.706850</td>\n",
              "    </tr>\n",
              "    <tr>\n",
              "      <th>B</th>\n",
              "      <td>0.651118</td>\n",
              "    </tr>\n",
              "    <tr>\n",
              "      <th>C</th>\n",
              "      <td>-2.018168</td>\n",
              "    </tr>\n",
              "    <tr>\n",
              "      <th>D</th>\n",
              "      <td>0.188695</td>\n",
              "    </tr>\n",
              "    <tr>\n",
              "      <th>E</th>\n",
              "      <td>0.190794</td>\n",
              "    </tr>\n",
              "  </tbody>\n",
              "</table>\n",
              "</div>"
            ],
            "text/plain": [
              "          W\n",
              "A  2.706850\n",
              "B  0.651118\n",
              "C -2.018168\n",
              "D  0.188695\n",
              "E  0.190794"
            ]
          },
          "execution_count": 63,
          "metadata": {},
          "output_type": "execute_result"
        }
      ]
    },
    {
      "cell_type": "code",
      "metadata": {
        "id": "76d8d89d",
        "outputId": "a9ba67fd-1e12-452c-9dc2-9edf26f66c1c"
      },
      "source": [
        "df3[[\"W\",\"Y\"]]"
      ],
      "id": "76d8d89d",
      "execution_count": null,
      "outputs": [
        {
          "data": {
            "text/html": [
              "<div>\n",
              "<style scoped>\n",
              "    .dataframe tbody tr th:only-of-type {\n",
              "        vertical-align: middle;\n",
              "    }\n",
              "\n",
              "    .dataframe tbody tr th {\n",
              "        vertical-align: top;\n",
              "    }\n",
              "\n",
              "    .dataframe thead th {\n",
              "        text-align: right;\n",
              "    }\n",
              "</style>\n",
              "<table border=\"1\" class=\"dataframe\">\n",
              "  <thead>\n",
              "    <tr style=\"text-align: right;\">\n",
              "      <th></th>\n",
              "      <th>W</th>\n",
              "      <th>Y</th>\n",
              "    </tr>\n",
              "  </thead>\n",
              "  <tbody>\n",
              "    <tr>\n",
              "      <th>A</th>\n",
              "      <td>2.706850</td>\n",
              "      <td>0.907969</td>\n",
              "    </tr>\n",
              "    <tr>\n",
              "      <th>B</th>\n",
              "      <td>0.651118</td>\n",
              "      <td>-0.848077</td>\n",
              "    </tr>\n",
              "    <tr>\n",
              "      <th>C</th>\n",
              "      <td>-2.018168</td>\n",
              "      <td>0.528813</td>\n",
              "    </tr>\n",
              "    <tr>\n",
              "      <th>D</th>\n",
              "      <td>0.188695</td>\n",
              "      <td>-0.933237</td>\n",
              "    </tr>\n",
              "    <tr>\n",
              "      <th>E</th>\n",
              "      <td>0.190794</td>\n",
              "      <td>2.605967</td>\n",
              "    </tr>\n",
              "  </tbody>\n",
              "</table>\n",
              "</div>"
            ],
            "text/plain": [
              "          W         Y\n",
              "A  2.706850  0.907969\n",
              "B  0.651118 -0.848077\n",
              "C -2.018168  0.528813\n",
              "D  0.188695 -0.933237\n",
              "E  0.190794  2.605967"
            ]
          },
          "execution_count": 64,
          "metadata": {},
          "output_type": "execute_result"
        }
      ]
    },
    {
      "cell_type": "code",
      "metadata": {
        "id": "1885c153",
        "outputId": "58a76a03-a671-48e6-8ce1-6ec9e1bedf81"
      },
      "source": [
        "df3.loc[:,\"W\":\"Z\"]"
      ],
      "id": "1885c153",
      "execution_count": null,
      "outputs": [
        {
          "data": {
            "text/html": [
              "<div>\n",
              "<style scoped>\n",
              "    .dataframe tbody tr th:only-of-type {\n",
              "        vertical-align: middle;\n",
              "    }\n",
              "\n",
              "    .dataframe tbody tr th {\n",
              "        vertical-align: top;\n",
              "    }\n",
              "\n",
              "    .dataframe thead th {\n",
              "        text-align: right;\n",
              "    }\n",
              "</style>\n",
              "<table border=\"1\" class=\"dataframe\">\n",
              "  <thead>\n",
              "    <tr style=\"text-align: right;\">\n",
              "      <th></th>\n",
              "      <th>W</th>\n",
              "      <th>X</th>\n",
              "      <th>Y</th>\n",
              "      <th>Z</th>\n",
              "    </tr>\n",
              "  </thead>\n",
              "  <tbody>\n",
              "    <tr>\n",
              "      <th>A</th>\n",
              "      <td>2.706850</td>\n",
              "      <td>0.628133</td>\n",
              "      <td>0.907969</td>\n",
              "      <td>0.503826</td>\n",
              "    </tr>\n",
              "    <tr>\n",
              "      <th>B</th>\n",
              "      <td>0.651118</td>\n",
              "      <td>-0.319318</td>\n",
              "      <td>-0.848077</td>\n",
              "      <td>0.605965</td>\n",
              "    </tr>\n",
              "    <tr>\n",
              "      <th>C</th>\n",
              "      <td>-2.018168</td>\n",
              "      <td>0.740122</td>\n",
              "      <td>0.528813</td>\n",
              "      <td>-0.589001</td>\n",
              "    </tr>\n",
              "    <tr>\n",
              "      <th>D</th>\n",
              "      <td>0.188695</td>\n",
              "      <td>-0.758872</td>\n",
              "      <td>-0.933237</td>\n",
              "      <td>0.955057</td>\n",
              "    </tr>\n",
              "    <tr>\n",
              "      <th>E</th>\n",
              "      <td>0.190794</td>\n",
              "      <td>1.978757</td>\n",
              "      <td>2.605967</td>\n",
              "      <td>0.683509</td>\n",
              "    </tr>\n",
              "  </tbody>\n",
              "</table>\n",
              "</div>"
            ],
            "text/plain": [
              "          W         X         Y         Z\n",
              "A  2.706850  0.628133  0.907969  0.503826\n",
              "B  0.651118 -0.319318 -0.848077  0.605965\n",
              "C -2.018168  0.740122  0.528813 -0.589001\n",
              "D  0.188695 -0.758872 -0.933237  0.955057\n",
              "E  0.190794  1.978757  2.605967  0.683509"
            ]
          },
          "execution_count": 66,
          "metadata": {},
          "output_type": "execute_result"
        }
      ]
    },
    {
      "cell_type": "code",
      "metadata": {
        "id": "b5b238d4",
        "outputId": "a082ffe1-f777-4ff8-d460-0adb047747ed"
      },
      "source": [
        "df3.loc[\"B\":\"D\",\"W\":\"Z\"]"
      ],
      "id": "b5b238d4",
      "execution_count": null,
      "outputs": [
        {
          "data": {
            "text/html": [
              "<div>\n",
              "<style scoped>\n",
              "    .dataframe tbody tr th:only-of-type {\n",
              "        vertical-align: middle;\n",
              "    }\n",
              "\n",
              "    .dataframe tbody tr th {\n",
              "        vertical-align: top;\n",
              "    }\n",
              "\n",
              "    .dataframe thead th {\n",
              "        text-align: right;\n",
              "    }\n",
              "</style>\n",
              "<table border=\"1\" class=\"dataframe\">\n",
              "  <thead>\n",
              "    <tr style=\"text-align: right;\">\n",
              "      <th></th>\n",
              "      <th>W</th>\n",
              "      <th>X</th>\n",
              "      <th>Y</th>\n",
              "      <th>Z</th>\n",
              "    </tr>\n",
              "  </thead>\n",
              "  <tbody>\n",
              "    <tr>\n",
              "      <th>B</th>\n",
              "      <td>0.651118</td>\n",
              "      <td>-0.319318</td>\n",
              "      <td>-0.848077</td>\n",
              "      <td>0.605965</td>\n",
              "    </tr>\n",
              "    <tr>\n",
              "      <th>C</th>\n",
              "      <td>-2.018168</td>\n",
              "      <td>0.740122</td>\n",
              "      <td>0.528813</td>\n",
              "      <td>-0.589001</td>\n",
              "    </tr>\n",
              "    <tr>\n",
              "      <th>D</th>\n",
              "      <td>0.188695</td>\n",
              "      <td>-0.758872</td>\n",
              "      <td>-0.933237</td>\n",
              "      <td>0.955057</td>\n",
              "    </tr>\n",
              "  </tbody>\n",
              "</table>\n",
              "</div>"
            ],
            "text/plain": [
              "          W         X         Y         Z\n",
              "B  0.651118 -0.319318 -0.848077  0.605965\n",
              "C -2.018168  0.740122  0.528813 -0.589001\n",
              "D  0.188695 -0.758872 -0.933237  0.955057"
            ]
          },
          "execution_count": 67,
          "metadata": {},
          "output_type": "execute_result"
        }
      ]
    },
    {
      "cell_type": "code",
      "metadata": {
        "id": "75806128",
        "outputId": "f3837efb-c59a-4347-f4bb-a86dfbace97e"
      },
      "source": [
        "df3[\"X\"]"
      ],
      "id": "75806128",
      "execution_count": null,
      "outputs": [
        {
          "data": {
            "text/plain": [
              "A    0.628133\n",
              "B   -0.319318\n",
              "C    0.740122\n",
              "D   -0.758872\n",
              "E    1.978757\n",
              "Name: X, dtype: float64"
            ]
          },
          "execution_count": 68,
          "metadata": {},
          "output_type": "execute_result"
        }
      ]
    },
    {
      "cell_type": "code",
      "metadata": {
        "id": "a3fd3343",
        "outputId": "a1f143d6-b656-4b7b-a675-07adcba21f02"
      },
      "source": [
        "df3[\"Y\"]"
      ],
      "id": "a3fd3343",
      "execution_count": null,
      "outputs": [
        {
          "data": {
            "text/plain": [
              "A    0.907969\n",
              "B   -0.848077\n",
              "C    0.528813\n",
              "D   -0.933237\n",
              "E    2.605967\n",
              "Name: Y, dtype: float64"
            ]
          },
          "execution_count": 69,
          "metadata": {},
          "output_type": "execute_result"
        }
      ]
    },
    {
      "cell_type": "code",
      "metadata": {
        "id": "d2299c75",
        "outputId": "14e28f77-ee5a-4317-d178-13241162d340"
      },
      "source": [
        "df3[\"X\"]+df3[\"Y\"]"
      ],
      "id": "d2299c75",
      "execution_count": null,
      "outputs": [
        {
          "data": {
            "text/plain": [
              "A    1.536102\n",
              "B   -1.167395\n",
              "C    1.268936\n",
              "D   -1.692109\n",
              "E    4.584725\n",
              "dtype: float64"
            ]
          },
          "execution_count": 70,
          "metadata": {},
          "output_type": "execute_result"
        }
      ]
    },
    {
      "cell_type": "code",
      "metadata": {
        "id": "fe07ce5b",
        "outputId": "985e6d3f-a4bc-4fb7-854a-a59041907dfa"
      },
      "source": [
        "df3[\"X\"]*df3[\"Y\"]"
      ],
      "id": "fe07ce5b",
      "execution_count": null,
      "outputs": [
        {
          "data": {
            "text/plain": [
              "A    0.570325\n",
              "B    0.270806\n",
              "C    0.391387\n",
              "D    0.708208\n",
              "E    5.156577\n",
              "dtype: float64"
            ]
          },
          "execution_count": 71,
          "metadata": {},
          "output_type": "execute_result"
        }
      ]
    },
    {
      "cell_type": "code",
      "metadata": {
        "id": "3e66d73e",
        "outputId": "325de517-51af-455e-f571-7d70582488e4"
      },
      "source": [
        "df3[\"X\"]/df3[\"Y\"]**2"
      ],
      "id": "3e66d73e",
      "execution_count": null,
      "outputs": [
        {
          "data": {
            "text/plain": [
              "A    0.761919\n",
              "B   -0.443969\n",
              "C    2.646661\n",
              "D   -0.871334\n",
              "E    0.291377\n",
              "dtype: float64"
            ]
          },
          "execution_count": 73,
          "metadata": {},
          "output_type": "execute_result"
        }
      ]
    },
    {
      "cell_type": "code",
      "metadata": {
        "id": "c28ee29f"
      },
      "source": [
        "#dataframe e yeni sütun ekleme (append ile satır eklenir altına ,)"
      ],
      "id": "c28ee29f",
      "execution_count": null,
      "outputs": []
    },
    {
      "cell_type": "code",
      "metadata": {
        "id": "711b96be",
        "outputId": "b5a398d6-e31b-47e0-bc47-dcf9d8f37c35"
      },
      "source": [
        "df3[\"Yeni\"]=df3[\"W\"]*df3[\"X\"]+df3[\"Y\"]**2-df3[\"Z\"]\n",
        "df3"
      ],
      "id": "711b96be",
      "execution_count": null,
      "outputs": [
        {
          "data": {
            "text/html": [
              "<div>\n",
              "<style scoped>\n",
              "    .dataframe tbody tr th:only-of-type {\n",
              "        vertical-align: middle;\n",
              "    }\n",
              "\n",
              "    .dataframe tbody tr th {\n",
              "        vertical-align: top;\n",
              "    }\n",
              "\n",
              "    .dataframe thead th {\n",
              "        text-align: right;\n",
              "    }\n",
              "</style>\n",
              "<table border=\"1\" class=\"dataframe\">\n",
              "  <thead>\n",
              "    <tr style=\"text-align: right;\">\n",
              "      <th></th>\n",
              "      <th>W</th>\n",
              "      <th>X</th>\n",
              "      <th>Y</th>\n",
              "      <th>Z</th>\n",
              "      <th>Yeni</th>\n",
              "    </tr>\n",
              "  </thead>\n",
              "  <tbody>\n",
              "    <tr>\n",
              "      <th>A</th>\n",
              "      <td>2.706850</td>\n",
              "      <td>0.628133</td>\n",
              "      <td>0.907969</td>\n",
              "      <td>0.503826</td>\n",
              "      <td>2.020844</td>\n",
              "    </tr>\n",
              "    <tr>\n",
              "      <th>B</th>\n",
              "      <td>0.651118</td>\n",
              "      <td>-0.319318</td>\n",
              "      <td>-0.848077</td>\n",
              "      <td>0.605965</td>\n",
              "      <td>-0.094644</td>\n",
              "    </tr>\n",
              "    <tr>\n",
              "      <th>C</th>\n",
              "      <td>-2.018168</td>\n",
              "      <td>0.740122</td>\n",
              "      <td>0.528813</td>\n",
              "      <td>-0.589001</td>\n",
              "      <td>-0.625047</td>\n",
              "    </tr>\n",
              "    <tr>\n",
              "      <th>D</th>\n",
              "      <td>0.188695</td>\n",
              "      <td>-0.758872</td>\n",
              "      <td>-0.933237</td>\n",
              "      <td>0.955057</td>\n",
              "      <td>-0.227320</td>\n",
              "    </tr>\n",
              "    <tr>\n",
              "      <th>E</th>\n",
              "      <td>0.190794</td>\n",
              "      <td>1.978757</td>\n",
              "      <td>2.605967</td>\n",
              "      <td>0.683509</td>\n",
              "      <td>6.485092</td>\n",
              "    </tr>\n",
              "  </tbody>\n",
              "</table>\n",
              "</div>"
            ],
            "text/plain": [
              "          W         X         Y         Z      Yeni\n",
              "A  2.706850  0.628133  0.907969  0.503826  2.020844\n",
              "B  0.651118 -0.319318 -0.848077  0.605965 -0.094644\n",
              "C -2.018168  0.740122  0.528813 -0.589001 -0.625047\n",
              "D  0.188695 -0.758872 -0.933237  0.955057 -0.227320\n",
              "E  0.190794  1.978757  2.605967  0.683509  6.485092"
            ]
          },
          "execution_count": 74,
          "metadata": {},
          "output_type": "execute_result"
        }
      ]
    },
    {
      "cell_type": "code",
      "metadata": {
        "id": "5ace4d25",
        "outputId": "92aedaad-64fa-47bb-8d67-1f506022913c"
      },
      "source": [
        "df3[\"Yeni2\"]=df3[\"W\"]*df3[\"X\"]+df3[\"Y\"]**2-df3[\"Z\"].mean()\n",
        "df3"
      ],
      "id": "5ace4d25",
      "execution_count": null,
      "outputs": [
        {
          "data": {
            "text/html": [
              "<div>\n",
              "<style scoped>\n",
              "    .dataframe tbody tr th:only-of-type {\n",
              "        vertical-align: middle;\n",
              "    }\n",
              "\n",
              "    .dataframe tbody tr th {\n",
              "        vertical-align: top;\n",
              "    }\n",
              "\n",
              "    .dataframe thead th {\n",
              "        text-align: right;\n",
              "    }\n",
              "</style>\n",
              "<table border=\"1\" class=\"dataframe\">\n",
              "  <thead>\n",
              "    <tr style=\"text-align: right;\">\n",
              "      <th></th>\n",
              "      <th>W</th>\n",
              "      <th>X</th>\n",
              "      <th>Y</th>\n",
              "      <th>Z</th>\n",
              "      <th>Yeni</th>\n",
              "      <th>Yeni2</th>\n",
              "    </tr>\n",
              "  </thead>\n",
              "  <tbody>\n",
              "    <tr>\n",
              "      <th>A</th>\n",
              "      <td>2.706850</td>\n",
              "      <td>0.628133</td>\n",
              "      <td>0.907969</td>\n",
              "      <td>0.503826</td>\n",
              "      <td>2.020844</td>\n",
              "      <td>2.092798</td>\n",
              "    </tr>\n",
              "    <tr>\n",
              "      <th>B</th>\n",
              "      <td>0.651118</td>\n",
              "      <td>-0.319318</td>\n",
              "      <td>-0.848077</td>\n",
              "      <td>0.605965</td>\n",
              "      <td>-0.094644</td>\n",
              "      <td>0.079450</td>\n",
              "    </tr>\n",
              "    <tr>\n",
              "      <th>C</th>\n",
              "      <td>-2.018168</td>\n",
              "      <td>0.740122</td>\n",
              "      <td>0.528813</td>\n",
              "      <td>-0.589001</td>\n",
              "      <td>-0.625047</td>\n",
              "      <td>-1.645918</td>\n",
              "    </tr>\n",
              "    <tr>\n",
              "      <th>D</th>\n",
              "      <td>0.188695</td>\n",
              "      <td>-0.758872</td>\n",
              "      <td>-0.933237</td>\n",
              "      <td>0.955057</td>\n",
              "      <td>-0.227320</td>\n",
              "      <td>0.295865</td>\n",
              "    </tr>\n",
              "    <tr>\n",
              "      <th>E</th>\n",
              "      <td>0.190794</td>\n",
              "      <td>1.978757</td>\n",
              "      <td>2.605967</td>\n",
              "      <td>0.683509</td>\n",
              "      <td>6.485092</td>\n",
              "      <td>6.736730</td>\n",
              "    </tr>\n",
              "  </tbody>\n",
              "</table>\n",
              "</div>"
            ],
            "text/plain": [
              "          W         X         Y         Z      Yeni     Yeni2\n",
              "A  2.706850  0.628133  0.907969  0.503826  2.020844  2.092798\n",
              "B  0.651118 -0.319318 -0.848077  0.605965 -0.094644  0.079450\n",
              "C -2.018168  0.740122  0.528813 -0.589001 -0.625047 -1.645918\n",
              "D  0.188695 -0.758872 -0.933237  0.955057 -0.227320  0.295865\n",
              "E  0.190794  1.978757  2.605967  0.683509  6.485092  6.736730"
            ]
          },
          "execution_count": 75,
          "metadata": {},
          "output_type": "execute_result"
        }
      ]
    },
    {
      "cell_type": "code",
      "metadata": {
        "id": "69c837a9",
        "outputId": "1084fac2-ec45-4fc7-8c85-c16620e53626"
      },
      "source": [
        "df3.drop(\"Yeni\",axis = 1)"
      ],
      "id": "69c837a9",
      "execution_count": null,
      "outputs": [
        {
          "data": {
            "text/html": [
              "<div>\n",
              "<style scoped>\n",
              "    .dataframe tbody tr th:only-of-type {\n",
              "        vertical-align: middle;\n",
              "    }\n",
              "\n",
              "    .dataframe tbody tr th {\n",
              "        vertical-align: top;\n",
              "    }\n",
              "\n",
              "    .dataframe thead th {\n",
              "        text-align: right;\n",
              "    }\n",
              "</style>\n",
              "<table border=\"1\" class=\"dataframe\">\n",
              "  <thead>\n",
              "    <tr style=\"text-align: right;\">\n",
              "      <th></th>\n",
              "      <th>W</th>\n",
              "      <th>X</th>\n",
              "      <th>Y</th>\n",
              "      <th>Z</th>\n",
              "      <th>Yeni2</th>\n",
              "    </tr>\n",
              "  </thead>\n",
              "  <tbody>\n",
              "    <tr>\n",
              "      <th>A</th>\n",
              "      <td>2.706850</td>\n",
              "      <td>0.628133</td>\n",
              "      <td>0.907969</td>\n",
              "      <td>0.503826</td>\n",
              "      <td>2.092798</td>\n",
              "    </tr>\n",
              "    <tr>\n",
              "      <th>B</th>\n",
              "      <td>0.651118</td>\n",
              "      <td>-0.319318</td>\n",
              "      <td>-0.848077</td>\n",
              "      <td>0.605965</td>\n",
              "      <td>0.079450</td>\n",
              "    </tr>\n",
              "    <tr>\n",
              "      <th>C</th>\n",
              "      <td>-2.018168</td>\n",
              "      <td>0.740122</td>\n",
              "      <td>0.528813</td>\n",
              "      <td>-0.589001</td>\n",
              "      <td>-1.645918</td>\n",
              "    </tr>\n",
              "    <tr>\n",
              "      <th>D</th>\n",
              "      <td>0.188695</td>\n",
              "      <td>-0.758872</td>\n",
              "      <td>-0.933237</td>\n",
              "      <td>0.955057</td>\n",
              "      <td>0.295865</td>\n",
              "    </tr>\n",
              "    <tr>\n",
              "      <th>E</th>\n",
              "      <td>0.190794</td>\n",
              "      <td>1.978757</td>\n",
              "      <td>2.605967</td>\n",
              "      <td>0.683509</td>\n",
              "      <td>6.736730</td>\n",
              "    </tr>\n",
              "  </tbody>\n",
              "</table>\n",
              "</div>"
            ],
            "text/plain": [
              "          W         X         Y         Z     Yeni2\n",
              "A  2.706850  0.628133  0.907969  0.503826  2.092798\n",
              "B  0.651118 -0.319318 -0.848077  0.605965  0.079450\n",
              "C -2.018168  0.740122  0.528813 -0.589001 -1.645918\n",
              "D  0.188695 -0.758872 -0.933237  0.955057  0.295865\n",
              "E  0.190794  1.978757  2.605967  0.683509  6.736730"
            ]
          },
          "execution_count": 76,
          "metadata": {},
          "output_type": "execute_result"
        }
      ]
    },
    {
      "cell_type": "code",
      "metadata": {
        "id": "4cdb27e1",
        "outputId": "3ee6802a-0839-44f3-f62d-a80f81d655c5"
      },
      "source": [
        "df3"
      ],
      "id": "4cdb27e1",
      "execution_count": null,
      "outputs": [
        {
          "data": {
            "text/html": [
              "<div>\n",
              "<style scoped>\n",
              "    .dataframe tbody tr th:only-of-type {\n",
              "        vertical-align: middle;\n",
              "    }\n",
              "\n",
              "    .dataframe tbody tr th {\n",
              "        vertical-align: top;\n",
              "    }\n",
              "\n",
              "    .dataframe thead th {\n",
              "        text-align: right;\n",
              "    }\n",
              "</style>\n",
              "<table border=\"1\" class=\"dataframe\">\n",
              "  <thead>\n",
              "    <tr style=\"text-align: right;\">\n",
              "      <th></th>\n",
              "      <th>W</th>\n",
              "      <th>X</th>\n",
              "      <th>Y</th>\n",
              "      <th>Z</th>\n",
              "      <th>Yeni</th>\n",
              "      <th>Yeni2</th>\n",
              "    </tr>\n",
              "  </thead>\n",
              "  <tbody>\n",
              "    <tr>\n",
              "      <th>A</th>\n",
              "      <td>2.706850</td>\n",
              "      <td>0.628133</td>\n",
              "      <td>0.907969</td>\n",
              "      <td>0.503826</td>\n",
              "      <td>2.020844</td>\n",
              "      <td>2.092798</td>\n",
              "    </tr>\n",
              "    <tr>\n",
              "      <th>B</th>\n",
              "      <td>0.651118</td>\n",
              "      <td>-0.319318</td>\n",
              "      <td>-0.848077</td>\n",
              "      <td>0.605965</td>\n",
              "      <td>-0.094644</td>\n",
              "      <td>0.079450</td>\n",
              "    </tr>\n",
              "    <tr>\n",
              "      <th>C</th>\n",
              "      <td>-2.018168</td>\n",
              "      <td>0.740122</td>\n",
              "      <td>0.528813</td>\n",
              "      <td>-0.589001</td>\n",
              "      <td>-0.625047</td>\n",
              "      <td>-1.645918</td>\n",
              "    </tr>\n",
              "    <tr>\n",
              "      <th>D</th>\n",
              "      <td>0.188695</td>\n",
              "      <td>-0.758872</td>\n",
              "      <td>-0.933237</td>\n",
              "      <td>0.955057</td>\n",
              "      <td>-0.227320</td>\n",
              "      <td>0.295865</td>\n",
              "    </tr>\n",
              "    <tr>\n",
              "      <th>E</th>\n",
              "      <td>0.190794</td>\n",
              "      <td>1.978757</td>\n",
              "      <td>2.605967</td>\n",
              "      <td>0.683509</td>\n",
              "      <td>6.485092</td>\n",
              "      <td>6.736730</td>\n",
              "    </tr>\n",
              "  </tbody>\n",
              "</table>\n",
              "</div>"
            ],
            "text/plain": [
              "          W         X         Y         Z      Yeni     Yeni2\n",
              "A  2.706850  0.628133  0.907969  0.503826  2.020844  2.092798\n",
              "B  0.651118 -0.319318 -0.848077  0.605965 -0.094644  0.079450\n",
              "C -2.018168  0.740122  0.528813 -0.589001 -0.625047 -1.645918\n",
              "D  0.188695 -0.758872 -0.933237  0.955057 -0.227320  0.295865\n",
              "E  0.190794  1.978757  2.605967  0.683509  6.485092  6.736730"
            ]
          },
          "execution_count": 77,
          "metadata": {},
          "output_type": "execute_result"
        }
      ]
    },
    {
      "cell_type": "code",
      "metadata": {
        "id": "56171597"
      },
      "source": [
        "df3 = df3.drop(\"Yeni\",axis = 1)"
      ],
      "id": "56171597",
      "execution_count": null,
      "outputs": []
    },
    {
      "cell_type": "code",
      "metadata": {
        "id": "0615124a",
        "outputId": "814db2f1-38dd-4021-c78d-5442c7a34ee7"
      },
      "source": [
        "df3"
      ],
      "id": "0615124a",
      "execution_count": null,
      "outputs": [
        {
          "data": {
            "text/html": [
              "<div>\n",
              "<style scoped>\n",
              "    .dataframe tbody tr th:only-of-type {\n",
              "        vertical-align: middle;\n",
              "    }\n",
              "\n",
              "    .dataframe tbody tr th {\n",
              "        vertical-align: top;\n",
              "    }\n",
              "\n",
              "    .dataframe thead th {\n",
              "        text-align: right;\n",
              "    }\n",
              "</style>\n",
              "<table border=\"1\" class=\"dataframe\">\n",
              "  <thead>\n",
              "    <tr style=\"text-align: right;\">\n",
              "      <th></th>\n",
              "      <th>W</th>\n",
              "      <th>X</th>\n",
              "      <th>Y</th>\n",
              "      <th>Z</th>\n",
              "      <th>Yeni2</th>\n",
              "    </tr>\n",
              "  </thead>\n",
              "  <tbody>\n",
              "    <tr>\n",
              "      <th>A</th>\n",
              "      <td>2.706850</td>\n",
              "      <td>0.628133</td>\n",
              "      <td>0.907969</td>\n",
              "      <td>0.503826</td>\n",
              "      <td>2.092798</td>\n",
              "    </tr>\n",
              "    <tr>\n",
              "      <th>B</th>\n",
              "      <td>0.651118</td>\n",
              "      <td>-0.319318</td>\n",
              "      <td>-0.848077</td>\n",
              "      <td>0.605965</td>\n",
              "      <td>0.079450</td>\n",
              "    </tr>\n",
              "    <tr>\n",
              "      <th>C</th>\n",
              "      <td>-2.018168</td>\n",
              "      <td>0.740122</td>\n",
              "      <td>0.528813</td>\n",
              "      <td>-0.589001</td>\n",
              "      <td>-1.645918</td>\n",
              "    </tr>\n",
              "    <tr>\n",
              "      <th>D</th>\n",
              "      <td>0.188695</td>\n",
              "      <td>-0.758872</td>\n",
              "      <td>-0.933237</td>\n",
              "      <td>0.955057</td>\n",
              "      <td>0.295865</td>\n",
              "    </tr>\n",
              "    <tr>\n",
              "      <th>E</th>\n",
              "      <td>0.190794</td>\n",
              "      <td>1.978757</td>\n",
              "      <td>2.605967</td>\n",
              "      <td>0.683509</td>\n",
              "      <td>6.736730</td>\n",
              "    </tr>\n",
              "  </tbody>\n",
              "</table>\n",
              "</div>"
            ],
            "text/plain": [
              "          W         X         Y         Z     Yeni2\n",
              "A  2.706850  0.628133  0.907969  0.503826  2.092798\n",
              "B  0.651118 -0.319318 -0.848077  0.605965  0.079450\n",
              "C -2.018168  0.740122  0.528813 -0.589001 -1.645918\n",
              "D  0.188695 -0.758872 -0.933237  0.955057  0.295865\n",
              "E  0.190794  1.978757  2.605967  0.683509  6.736730"
            ]
          },
          "execution_count": 79,
          "metadata": {},
          "output_type": "execute_result"
        }
      ]
    },
    {
      "cell_type": "code",
      "metadata": {
        "id": "8a3b225a",
        "outputId": "b507935b-259d-41fc-cd9e-5ff96508e770"
      },
      "source": [
        "df3.drop([\"Y\",\"Yeni2\"],axis = 1)"
      ],
      "id": "8a3b225a",
      "execution_count": null,
      "outputs": [
        {
          "data": {
            "text/html": [
              "<div>\n",
              "<style scoped>\n",
              "    .dataframe tbody tr th:only-of-type {\n",
              "        vertical-align: middle;\n",
              "    }\n",
              "\n",
              "    .dataframe tbody tr th {\n",
              "        vertical-align: top;\n",
              "    }\n",
              "\n",
              "    .dataframe thead th {\n",
              "        text-align: right;\n",
              "    }\n",
              "</style>\n",
              "<table border=\"1\" class=\"dataframe\">\n",
              "  <thead>\n",
              "    <tr style=\"text-align: right;\">\n",
              "      <th></th>\n",
              "      <th>W</th>\n",
              "      <th>X</th>\n",
              "      <th>Z</th>\n",
              "    </tr>\n",
              "  </thead>\n",
              "  <tbody>\n",
              "    <tr>\n",
              "      <th>A</th>\n",
              "      <td>2.706850</td>\n",
              "      <td>0.628133</td>\n",
              "      <td>0.503826</td>\n",
              "    </tr>\n",
              "    <tr>\n",
              "      <th>B</th>\n",
              "      <td>0.651118</td>\n",
              "      <td>-0.319318</td>\n",
              "      <td>0.605965</td>\n",
              "    </tr>\n",
              "    <tr>\n",
              "      <th>C</th>\n",
              "      <td>-2.018168</td>\n",
              "      <td>0.740122</td>\n",
              "      <td>-0.589001</td>\n",
              "    </tr>\n",
              "    <tr>\n",
              "      <th>D</th>\n",
              "      <td>0.188695</td>\n",
              "      <td>-0.758872</td>\n",
              "      <td>0.955057</td>\n",
              "    </tr>\n",
              "    <tr>\n",
              "      <th>E</th>\n",
              "      <td>0.190794</td>\n",
              "      <td>1.978757</td>\n",
              "      <td>0.683509</td>\n",
              "    </tr>\n",
              "  </tbody>\n",
              "</table>\n",
              "</div>"
            ],
            "text/plain": [
              "          W         X         Z\n",
              "A  2.706850  0.628133  0.503826\n",
              "B  0.651118 -0.319318  0.605965\n",
              "C -2.018168  0.740122 -0.589001\n",
              "D  0.188695 -0.758872  0.955057\n",
              "E  0.190794  1.978757  0.683509"
            ]
          },
          "execution_count": 81,
          "metadata": {},
          "output_type": "execute_result"
        }
      ]
    },
    {
      "cell_type": "code",
      "metadata": {
        "id": "357779a2"
      },
      "source": [
        "df3.drop([\"Y\",\"Yeni2\"],axis = 1,inplace= True)"
      ],
      "id": "357779a2",
      "execution_count": null,
      "outputs": []
    },
    {
      "cell_type": "markdown",
      "metadata": {
        "id": "a56bc7f7"
      },
      "source": [
        "### "
      ],
      "id": "a56bc7f7"
    },
    {
      "cell_type": "code",
      "metadata": {
        "id": "e101fce2",
        "outputId": "c9760f50-09ac-4f71-ae60-9ec2382621be"
      },
      "source": [
        "df3"
      ],
      "id": "e101fce2",
      "execution_count": null,
      "outputs": [
        {
          "data": {
            "text/html": [
              "<div>\n",
              "<style scoped>\n",
              "    .dataframe tbody tr th:only-of-type {\n",
              "        vertical-align: middle;\n",
              "    }\n",
              "\n",
              "    .dataframe tbody tr th {\n",
              "        vertical-align: top;\n",
              "    }\n",
              "\n",
              "    .dataframe thead th {\n",
              "        text-align: right;\n",
              "    }\n",
              "</style>\n",
              "<table border=\"1\" class=\"dataframe\">\n",
              "  <thead>\n",
              "    <tr style=\"text-align: right;\">\n",
              "      <th></th>\n",
              "      <th>W</th>\n",
              "      <th>X</th>\n",
              "      <th>Z</th>\n",
              "    </tr>\n",
              "  </thead>\n",
              "  <tbody>\n",
              "    <tr>\n",
              "      <th>A</th>\n",
              "      <td>2.706850</td>\n",
              "      <td>0.628133</td>\n",
              "      <td>0.503826</td>\n",
              "    </tr>\n",
              "    <tr>\n",
              "      <th>B</th>\n",
              "      <td>0.651118</td>\n",
              "      <td>-0.319318</td>\n",
              "      <td>0.605965</td>\n",
              "    </tr>\n",
              "    <tr>\n",
              "      <th>C</th>\n",
              "      <td>-2.018168</td>\n",
              "      <td>0.740122</td>\n",
              "      <td>-0.589001</td>\n",
              "    </tr>\n",
              "    <tr>\n",
              "      <th>D</th>\n",
              "      <td>0.188695</td>\n",
              "      <td>-0.758872</td>\n",
              "      <td>0.955057</td>\n",
              "    </tr>\n",
              "    <tr>\n",
              "      <th>E</th>\n",
              "      <td>0.190794</td>\n",
              "      <td>1.978757</td>\n",
              "      <td>0.683509</td>\n",
              "    </tr>\n",
              "  </tbody>\n",
              "</table>\n",
              "</div>"
            ],
            "text/plain": [
              "          W         X         Z\n",
              "A  2.706850  0.628133  0.503826\n",
              "B  0.651118 -0.319318  0.605965\n",
              "C -2.018168  0.740122 -0.589001\n",
              "D  0.188695 -0.758872  0.955057\n",
              "E  0.190794  1.978757  0.683509"
            ]
          },
          "execution_count": 83,
          "metadata": {},
          "output_type": "execute_result"
        }
      ]
    },
    {
      "cell_type": "code",
      "metadata": {
        "id": "4ebb23b0"
      },
      "source": [
        "df3.drop([\"C\",\"E\"],axis=0,inplace=True)"
      ],
      "id": "4ebb23b0",
      "execution_count": null,
      "outputs": []
    },
    {
      "cell_type": "markdown",
      "metadata": {
        "id": "614e04c0"
      },
      "source": [
        ""
      ],
      "id": "614e04c0"
    },
    {
      "cell_type": "code",
      "metadata": {
        "id": "7d5db4b0",
        "outputId": "0659ac96-86e3-411a-e27f-c925b2454da2"
      },
      "source": [
        "df3"
      ],
      "id": "7d5db4b0",
      "execution_count": null,
      "outputs": [
        {
          "data": {
            "text/html": [
              "<div>\n",
              "<style scoped>\n",
              "    .dataframe tbody tr th:only-of-type {\n",
              "        vertical-align: middle;\n",
              "    }\n",
              "\n",
              "    .dataframe tbody tr th {\n",
              "        vertical-align: top;\n",
              "    }\n",
              "\n",
              "    .dataframe thead th {\n",
              "        text-align: right;\n",
              "    }\n",
              "</style>\n",
              "<table border=\"1\" class=\"dataframe\">\n",
              "  <thead>\n",
              "    <tr style=\"text-align: right;\">\n",
              "      <th></th>\n",
              "      <th>W</th>\n",
              "      <th>X</th>\n",
              "      <th>Z</th>\n",
              "    </tr>\n",
              "  </thead>\n",
              "  <tbody>\n",
              "    <tr>\n",
              "      <th>A</th>\n",
              "      <td>2.706850</td>\n",
              "      <td>0.628133</td>\n",
              "      <td>0.503826</td>\n",
              "    </tr>\n",
              "    <tr>\n",
              "      <th>B</th>\n",
              "      <td>0.651118</td>\n",
              "      <td>-0.319318</td>\n",
              "      <td>0.605965</td>\n",
              "    </tr>\n",
              "    <tr>\n",
              "      <th>D</th>\n",
              "      <td>0.188695</td>\n",
              "      <td>-0.758872</td>\n",
              "      <td>0.955057</td>\n",
              "    </tr>\n",
              "  </tbody>\n",
              "</table>\n",
              "</div>"
            ],
            "text/plain": [
              "          W         X         Z\n",
              "A  2.706850  0.628133  0.503826\n",
              "B  0.651118 -0.319318  0.605965\n",
              "D  0.188695 -0.758872  0.955057"
            ]
          },
          "execution_count": 85,
          "metadata": {},
          "output_type": "execute_result"
        }
      ]
    },
    {
      "cell_type": "code",
      "metadata": {
        "id": "22e6ead8",
        "outputId": "f1849f5c-2df4-4d97-c305-029612fcade0"
      },
      "source": [
        "m=np.random.randint(1,40, size=(8,4))\n",
        "df4 = pd.DataFrame(m, columns = [\"var1\",\"var2\",\"var3\",'var4'])\n",
        "df4"
      ],
      "id": "22e6ead8",
      "execution_count": null,
      "outputs": [
        {
          "data": {
            "text/html": [
              "<div>\n",
              "<style scoped>\n",
              "    .dataframe tbody tr th:only-of-type {\n",
              "        vertical-align: middle;\n",
              "    }\n",
              "\n",
              "    .dataframe tbody tr th {\n",
              "        vertical-align: top;\n",
              "    }\n",
              "\n",
              "    .dataframe thead th {\n",
              "        text-align: right;\n",
              "    }\n",
              "</style>\n",
              "<table border=\"1\" class=\"dataframe\">\n",
              "  <thead>\n",
              "    <tr style=\"text-align: right;\">\n",
              "      <th></th>\n",
              "      <th>var1</th>\n",
              "      <th>var2</th>\n",
              "      <th>var3</th>\n",
              "      <th>var4</th>\n",
              "    </tr>\n",
              "  </thead>\n",
              "  <tbody>\n",
              "    <tr>\n",
              "      <th>0</th>\n",
              "      <td>8</td>\n",
              "      <td>11</td>\n",
              "      <td>39</td>\n",
              "      <td>10</td>\n",
              "    </tr>\n",
              "    <tr>\n",
              "      <th>1</th>\n",
              "      <td>19</td>\n",
              "      <td>8</td>\n",
              "      <td>16</td>\n",
              "      <td>1</td>\n",
              "    </tr>\n",
              "    <tr>\n",
              "      <th>2</th>\n",
              "      <td>13</td>\n",
              "      <td>18</td>\n",
              "      <td>12</td>\n",
              "      <td>16</td>\n",
              "    </tr>\n",
              "    <tr>\n",
              "      <th>3</th>\n",
              "      <td>34</td>\n",
              "      <td>30</td>\n",
              "      <td>25</td>\n",
              "      <td>37</td>\n",
              "    </tr>\n",
              "    <tr>\n",
              "      <th>4</th>\n",
              "      <td>20</td>\n",
              "      <td>36</td>\n",
              "      <td>31</td>\n",
              "      <td>11</td>\n",
              "    </tr>\n",
              "    <tr>\n",
              "      <th>5</th>\n",
              "      <td>21</td>\n",
              "      <td>28</td>\n",
              "      <td>9</td>\n",
              "      <td>23</td>\n",
              "    </tr>\n",
              "    <tr>\n",
              "      <th>6</th>\n",
              "      <td>27</td>\n",
              "      <td>24</td>\n",
              "      <td>38</td>\n",
              "      <td>23</td>\n",
              "    </tr>\n",
              "    <tr>\n",
              "      <th>7</th>\n",
              "      <td>10</td>\n",
              "      <td>3</td>\n",
              "      <td>19</td>\n",
              "      <td>29</td>\n",
              "    </tr>\n",
              "  </tbody>\n",
              "</table>\n",
              "</div>"
            ],
            "text/plain": [
              "   var1  var2  var3  var4\n",
              "0     8    11    39    10\n",
              "1    19     8    16     1\n",
              "2    13    18    12    16\n",
              "3    34    30    25    37\n",
              "4    20    36    31    11\n",
              "5    21    28     9    23\n",
              "6    27    24    38    23\n",
              "7    10     3    19    29"
            ]
          },
          "execution_count": 86,
          "metadata": {},
          "output_type": "execute_result"
        }
      ]
    },
    {
      "cell_type": "code",
      "metadata": {
        "id": "6b51358c",
        "outputId": "a202c7b4-b88f-4152-a0a7-a20f35c1ecf4"
      },
      "source": [
        "df4.loc[2]  # seri olarak verdi"
      ],
      "id": "6b51358c",
      "execution_count": null,
      "outputs": [
        {
          "data": {
            "text/plain": [
              "var1    13\n",
              "var2    18\n",
              "var3    12\n",
              "var4    16\n",
              "Name: 2, dtype: int32"
            ]
          },
          "execution_count": 87,
          "metadata": {},
          "output_type": "execute_result"
        }
      ]
    },
    {
      "cell_type": "code",
      "metadata": {
        "id": "cc3dc615",
        "outputId": "9036c42d-229c-4719-9bcd-bbed3eaf029f"
      },
      "source": [
        "df4.loc[2:6] #dataframe olarak verdi "
      ],
      "id": "cc3dc615",
      "execution_count": null,
      "outputs": [
        {
          "data": {
            "text/html": [
              "<div>\n",
              "<style scoped>\n",
              "    .dataframe tbody tr th:only-of-type {\n",
              "        vertical-align: middle;\n",
              "    }\n",
              "\n",
              "    .dataframe tbody tr th {\n",
              "        vertical-align: top;\n",
              "    }\n",
              "\n",
              "    .dataframe thead th {\n",
              "        text-align: right;\n",
              "    }\n",
              "</style>\n",
              "<table border=\"1\" class=\"dataframe\">\n",
              "  <thead>\n",
              "    <tr style=\"text-align: right;\">\n",
              "      <th></th>\n",
              "      <th>var1</th>\n",
              "      <th>var2</th>\n",
              "      <th>var3</th>\n",
              "      <th>var4</th>\n",
              "    </tr>\n",
              "  </thead>\n",
              "  <tbody>\n",
              "    <tr>\n",
              "      <th>2</th>\n",
              "      <td>13</td>\n",
              "      <td>18</td>\n",
              "      <td>12</td>\n",
              "      <td>16</td>\n",
              "    </tr>\n",
              "    <tr>\n",
              "      <th>3</th>\n",
              "      <td>34</td>\n",
              "      <td>30</td>\n",
              "      <td>25</td>\n",
              "      <td>37</td>\n",
              "    </tr>\n",
              "    <tr>\n",
              "      <th>4</th>\n",
              "      <td>20</td>\n",
              "      <td>36</td>\n",
              "      <td>31</td>\n",
              "      <td>11</td>\n",
              "    </tr>\n",
              "    <tr>\n",
              "      <th>5</th>\n",
              "      <td>21</td>\n",
              "      <td>28</td>\n",
              "      <td>9</td>\n",
              "      <td>23</td>\n",
              "    </tr>\n",
              "    <tr>\n",
              "      <th>6</th>\n",
              "      <td>27</td>\n",
              "      <td>24</td>\n",
              "      <td>38</td>\n",
              "      <td>23</td>\n",
              "    </tr>\n",
              "  </tbody>\n",
              "</table>\n",
              "</div>"
            ],
            "text/plain": [
              "   var1  var2  var3  var4\n",
              "2    13    18    12    16\n",
              "3    34    30    25    37\n",
              "4    20    36    31    11\n",
              "5    21    28     9    23\n",
              "6    27    24    38    23"
            ]
          },
          "execution_count": 88,
          "metadata": {},
          "output_type": "execute_result"
        }
      ]
    },
    {
      "cell_type": "code",
      "metadata": {
        "id": "aa951d38",
        "outputId": "c142ef73-318d-4987-9e89-ddca98ac423f"
      },
      "source": [
        "df4.index='a b c d e f g h'.split()\n",
        "df4"
      ],
      "id": "aa951d38",
      "execution_count": null,
      "outputs": [
        {
          "data": {
            "text/html": [
              "<div>\n",
              "<style scoped>\n",
              "    .dataframe tbody tr th:only-of-type {\n",
              "        vertical-align: middle;\n",
              "    }\n",
              "\n",
              "    .dataframe tbody tr th {\n",
              "        vertical-align: top;\n",
              "    }\n",
              "\n",
              "    .dataframe thead th {\n",
              "        text-align: right;\n",
              "    }\n",
              "</style>\n",
              "<table border=\"1\" class=\"dataframe\">\n",
              "  <thead>\n",
              "    <tr style=\"text-align: right;\">\n",
              "      <th></th>\n",
              "      <th>var1</th>\n",
              "      <th>var2</th>\n",
              "      <th>var3</th>\n",
              "      <th>var4</th>\n",
              "    </tr>\n",
              "  </thead>\n",
              "  <tbody>\n",
              "    <tr>\n",
              "      <th>a</th>\n",
              "      <td>8</td>\n",
              "      <td>11</td>\n",
              "      <td>39</td>\n",
              "      <td>10</td>\n",
              "    </tr>\n",
              "    <tr>\n",
              "      <th>b</th>\n",
              "      <td>19</td>\n",
              "      <td>8</td>\n",
              "      <td>16</td>\n",
              "      <td>1</td>\n",
              "    </tr>\n",
              "    <tr>\n",
              "      <th>c</th>\n",
              "      <td>13</td>\n",
              "      <td>18</td>\n",
              "      <td>12</td>\n",
              "      <td>16</td>\n",
              "    </tr>\n",
              "    <tr>\n",
              "      <th>d</th>\n",
              "      <td>34</td>\n",
              "      <td>30</td>\n",
              "      <td>25</td>\n",
              "      <td>37</td>\n",
              "    </tr>\n",
              "    <tr>\n",
              "      <th>e</th>\n",
              "      <td>20</td>\n",
              "      <td>36</td>\n",
              "      <td>31</td>\n",
              "      <td>11</td>\n",
              "    </tr>\n",
              "    <tr>\n",
              "      <th>f</th>\n",
              "      <td>21</td>\n",
              "      <td>28</td>\n",
              "      <td>9</td>\n",
              "      <td>23</td>\n",
              "    </tr>\n",
              "    <tr>\n",
              "      <th>g</th>\n",
              "      <td>27</td>\n",
              "      <td>24</td>\n",
              "      <td>38</td>\n",
              "      <td>23</td>\n",
              "    </tr>\n",
              "    <tr>\n",
              "      <th>h</th>\n",
              "      <td>10</td>\n",
              "      <td>3</td>\n",
              "      <td>19</td>\n",
              "      <td>29</td>\n",
              "    </tr>\n",
              "  </tbody>\n",
              "</table>\n",
              "</div>"
            ],
            "text/plain": [
              "   var1  var2  var3  var4\n",
              "a     8    11    39    10\n",
              "b    19     8    16     1\n",
              "c    13    18    12    16\n",
              "d    34    30    25    37\n",
              "e    20    36    31    11\n",
              "f    21    28     9    23\n",
              "g    27    24    38    23\n",
              "h    10     3    19    29"
            ]
          },
          "execution_count": 89,
          "metadata": {},
          "output_type": "execute_result"
        }
      ]
    },
    {
      "cell_type": "markdown",
      "metadata": {
        "id": "d4735541"
      },
      "source": [
        "### loc aldığı ilk parametre satırdır"
      ],
      "id": "d4735541"
    },
    {
      "cell_type": "code",
      "metadata": {
        "id": "051f9364",
        "outputId": "2aea40db-470a-449b-b036-11c468dba477"
      },
      "source": [
        "df4.loc[\"c\"]"
      ],
      "id": "051f9364",
      "execution_count": null,
      "outputs": [
        {
          "data": {
            "text/plain": [
              "var1    13\n",
              "var2    18\n",
              "var3    12\n",
              "var4    16\n",
              "Name: c, dtype: int32"
            ]
          },
          "execution_count": 90,
          "metadata": {},
          "output_type": "execute_result"
        }
      ]
    },
    {
      "cell_type": "code",
      "metadata": {
        "id": "5d46de30",
        "outputId": "32025146-633e-4e24-87c1-fefd135c7998"
      },
      "source": [
        "df4.loc[\"c\":\"f\"]"
      ],
      "id": "5d46de30",
      "execution_count": null,
      "outputs": [
        {
          "data": {
            "text/html": [
              "<div>\n",
              "<style scoped>\n",
              "    .dataframe tbody tr th:only-of-type {\n",
              "        vertical-align: middle;\n",
              "    }\n",
              "\n",
              "    .dataframe tbody tr th {\n",
              "        vertical-align: top;\n",
              "    }\n",
              "\n",
              "    .dataframe thead th {\n",
              "        text-align: right;\n",
              "    }\n",
              "</style>\n",
              "<table border=\"1\" class=\"dataframe\">\n",
              "  <thead>\n",
              "    <tr style=\"text-align: right;\">\n",
              "      <th></th>\n",
              "      <th>var1</th>\n",
              "      <th>var2</th>\n",
              "      <th>var3</th>\n",
              "      <th>var4</th>\n",
              "    </tr>\n",
              "  </thead>\n",
              "  <tbody>\n",
              "    <tr>\n",
              "      <th>c</th>\n",
              "      <td>13</td>\n",
              "      <td>18</td>\n",
              "      <td>12</td>\n",
              "      <td>16</td>\n",
              "    </tr>\n",
              "    <tr>\n",
              "      <th>d</th>\n",
              "      <td>34</td>\n",
              "      <td>30</td>\n",
              "      <td>25</td>\n",
              "      <td>37</td>\n",
              "    </tr>\n",
              "    <tr>\n",
              "      <th>e</th>\n",
              "      <td>20</td>\n",
              "      <td>36</td>\n",
              "      <td>31</td>\n",
              "      <td>11</td>\n",
              "    </tr>\n",
              "    <tr>\n",
              "      <th>f</th>\n",
              "      <td>21</td>\n",
              "      <td>28</td>\n",
              "      <td>9</td>\n",
              "      <td>23</td>\n",
              "    </tr>\n",
              "  </tbody>\n",
              "</table>\n",
              "</div>"
            ],
            "text/plain": [
              "   var1  var2  var3  var4\n",
              "c    13    18    12    16\n",
              "d    34    30    25    37\n",
              "e    20    36    31    11\n",
              "f    21    28     9    23"
            ]
          },
          "execution_count": 91,
          "metadata": {},
          "output_type": "execute_result"
        }
      ]
    },
    {
      "cell_type": "code",
      "metadata": {
        "id": "8924e18b",
        "outputId": "c68f1fdf-d774-4e8f-a68b-f646abbf3f98"
      },
      "source": [
        "df4.loc[\"c\":\"f\",\"var1\":\"var3\"]"
      ],
      "id": "8924e18b",
      "execution_count": null,
      "outputs": [
        {
          "data": {
            "text/html": [
              "<div>\n",
              "<style scoped>\n",
              "    .dataframe tbody tr th:only-of-type {\n",
              "        vertical-align: middle;\n",
              "    }\n",
              "\n",
              "    .dataframe tbody tr th {\n",
              "        vertical-align: top;\n",
              "    }\n",
              "\n",
              "    .dataframe thead th {\n",
              "        text-align: right;\n",
              "    }\n",
              "</style>\n",
              "<table border=\"1\" class=\"dataframe\">\n",
              "  <thead>\n",
              "    <tr style=\"text-align: right;\">\n",
              "      <th></th>\n",
              "      <th>var1</th>\n",
              "      <th>var2</th>\n",
              "      <th>var3</th>\n",
              "    </tr>\n",
              "  </thead>\n",
              "  <tbody>\n",
              "    <tr>\n",
              "      <th>c</th>\n",
              "      <td>13</td>\n",
              "      <td>18</td>\n",
              "      <td>12</td>\n",
              "    </tr>\n",
              "    <tr>\n",
              "      <th>d</th>\n",
              "      <td>34</td>\n",
              "      <td>30</td>\n",
              "      <td>25</td>\n",
              "    </tr>\n",
              "    <tr>\n",
              "      <th>e</th>\n",
              "      <td>20</td>\n",
              "      <td>36</td>\n",
              "      <td>31</td>\n",
              "    </tr>\n",
              "    <tr>\n",
              "      <th>f</th>\n",
              "      <td>21</td>\n",
              "      <td>28</td>\n",
              "      <td>9</td>\n",
              "    </tr>\n",
              "  </tbody>\n",
              "</table>\n",
              "</div>"
            ],
            "text/plain": [
              "   var1  var2  var3\n",
              "c    13    18    12\n",
              "d    34    30    25\n",
              "e    20    36    31\n",
              "f    21    28     9"
            ]
          },
          "execution_count": 92,
          "metadata": {},
          "output_type": "execute_result"
        }
      ]
    },
    {
      "cell_type": "code",
      "metadata": {
        "id": "ceff1823",
        "outputId": "0cd80dc7-4865-4476-ef4e-eacae5acb1ea"
      },
      "source": [
        "df4.loc[[\"c\",\"f\"],[\"var1\",\"var3\"]]"
      ],
      "id": "ceff1823",
      "execution_count": null,
      "outputs": [
        {
          "data": {
            "text/html": [
              "<div>\n",
              "<style scoped>\n",
              "    .dataframe tbody tr th:only-of-type {\n",
              "        vertical-align: middle;\n",
              "    }\n",
              "\n",
              "    .dataframe tbody tr th {\n",
              "        vertical-align: top;\n",
              "    }\n",
              "\n",
              "    .dataframe thead th {\n",
              "        text-align: right;\n",
              "    }\n",
              "</style>\n",
              "<table border=\"1\" class=\"dataframe\">\n",
              "  <thead>\n",
              "    <tr style=\"text-align: right;\">\n",
              "      <th></th>\n",
              "      <th>var1</th>\n",
              "      <th>var3</th>\n",
              "    </tr>\n",
              "  </thead>\n",
              "  <tbody>\n",
              "    <tr>\n",
              "      <th>c</th>\n",
              "      <td>13</td>\n",
              "      <td>12</td>\n",
              "    </tr>\n",
              "    <tr>\n",
              "      <th>f</th>\n",
              "      <td>21</td>\n",
              "      <td>9</td>\n",
              "    </tr>\n",
              "  </tbody>\n",
              "</table>\n",
              "</div>"
            ],
            "text/plain": [
              "   var1  var3\n",
              "c    13    12\n",
              "f    21     9"
            ]
          },
          "execution_count": 94,
          "metadata": {},
          "output_type": "execute_result"
        }
      ]
    },
    {
      "cell_type": "code",
      "metadata": {
        "id": "6b4be04e",
        "outputId": "f792790c-3274-446f-f483-3b1e15787056"
      },
      "source": [
        "df4.loc[[\"c\",\"f\"],[\"var1\",\"var3\",\"var2\"]]"
      ],
      "id": "6b4be04e",
      "execution_count": null,
      "outputs": [
        {
          "data": {
            "text/html": [
              "<div>\n",
              "<style scoped>\n",
              "    .dataframe tbody tr th:only-of-type {\n",
              "        vertical-align: middle;\n",
              "    }\n",
              "\n",
              "    .dataframe tbody tr th {\n",
              "        vertical-align: top;\n",
              "    }\n",
              "\n",
              "    .dataframe thead th {\n",
              "        text-align: right;\n",
              "    }\n",
              "</style>\n",
              "<table border=\"1\" class=\"dataframe\">\n",
              "  <thead>\n",
              "    <tr style=\"text-align: right;\">\n",
              "      <th></th>\n",
              "      <th>var1</th>\n",
              "      <th>var3</th>\n",
              "      <th>var2</th>\n",
              "    </tr>\n",
              "  </thead>\n",
              "  <tbody>\n",
              "    <tr>\n",
              "      <th>c</th>\n",
              "      <td>13</td>\n",
              "      <td>12</td>\n",
              "      <td>18</td>\n",
              "    </tr>\n",
              "    <tr>\n",
              "      <th>f</th>\n",
              "      <td>21</td>\n",
              "      <td>9</td>\n",
              "      <td>28</td>\n",
              "    </tr>\n",
              "  </tbody>\n",
              "</table>\n",
              "</div>"
            ],
            "text/plain": [
              "   var1  var3  var2\n",
              "c    13    12    18\n",
              "f    21     9    28"
            ]
          },
          "execution_count": 95,
          "metadata": {},
          "output_type": "execute_result"
        }
      ]
    },
    {
      "cell_type": "code",
      "metadata": {
        "id": "7c1f5692",
        "outputId": "79fd7701-dff1-486a-b5aa-a2212986311f"
      },
      "source": [
        "df4.iloc[1:4,2:4]"
      ],
      "id": "7c1f5692",
      "execution_count": null,
      "outputs": [
        {
          "data": {
            "text/html": [
              "<div>\n",
              "<style scoped>\n",
              "    .dataframe tbody tr th:only-of-type {\n",
              "        vertical-align: middle;\n",
              "    }\n",
              "\n",
              "    .dataframe tbody tr th {\n",
              "        vertical-align: top;\n",
              "    }\n",
              "\n",
              "    .dataframe thead th {\n",
              "        text-align: right;\n",
              "    }\n",
              "</style>\n",
              "<table border=\"1\" class=\"dataframe\">\n",
              "  <thead>\n",
              "    <tr style=\"text-align: right;\">\n",
              "      <th></th>\n",
              "      <th>var3</th>\n",
              "      <th>var4</th>\n",
              "    </tr>\n",
              "  </thead>\n",
              "  <tbody>\n",
              "    <tr>\n",
              "      <th>b</th>\n",
              "      <td>16</td>\n",
              "      <td>1</td>\n",
              "    </tr>\n",
              "    <tr>\n",
              "      <th>c</th>\n",
              "      <td>12</td>\n",
              "      <td>16</td>\n",
              "    </tr>\n",
              "    <tr>\n",
              "      <th>d</th>\n",
              "      <td>25</td>\n",
              "      <td>37</td>\n",
              "    </tr>\n",
              "  </tbody>\n",
              "</table>\n",
              "</div>"
            ],
            "text/plain": [
              "   var3  var4\n",
              "b    16     1\n",
              "c    12    16\n",
              "d    25    37"
            ]
          },
          "execution_count": 96,
          "metadata": {},
          "output_type": "execute_result"
        }
      ]
    },
    {
      "cell_type": "code",
      "metadata": {
        "id": "98d914c6"
      },
      "source": [
        "# 4 ler dahil değildir "
      ],
      "id": "98d914c6",
      "execution_count": null,
      "outputs": []
    },
    {
      "cell_type": "code",
      "metadata": {
        "id": "ea41e971",
        "outputId": "2e079a43-dedf-4655-bad6-c86dfdd95844"
      },
      "source": [
        "df4.iloc[1:4,2:3]"
      ],
      "id": "ea41e971",
      "execution_count": null,
      "outputs": [
        {
          "data": {
            "text/html": [
              "<div>\n",
              "<style scoped>\n",
              "    .dataframe tbody tr th:only-of-type {\n",
              "        vertical-align: middle;\n",
              "    }\n",
              "\n",
              "    .dataframe tbody tr th {\n",
              "        vertical-align: top;\n",
              "    }\n",
              "\n",
              "    .dataframe thead th {\n",
              "        text-align: right;\n",
              "    }\n",
              "</style>\n",
              "<table border=\"1\" class=\"dataframe\">\n",
              "  <thead>\n",
              "    <tr style=\"text-align: right;\">\n",
              "      <th></th>\n",
              "      <th>var3</th>\n",
              "    </tr>\n",
              "  </thead>\n",
              "  <tbody>\n",
              "    <tr>\n",
              "      <th>b</th>\n",
              "      <td>16</td>\n",
              "    </tr>\n",
              "    <tr>\n",
              "      <th>c</th>\n",
              "      <td>12</td>\n",
              "    </tr>\n",
              "    <tr>\n",
              "      <th>d</th>\n",
              "      <td>25</td>\n",
              "    </tr>\n",
              "  </tbody>\n",
              "</table>\n",
              "</div>"
            ],
            "text/plain": [
              "   var3\n",
              "b    16\n",
              "c    12\n",
              "d    25"
            ]
          },
          "execution_count": 97,
          "metadata": {},
          "output_type": "execute_result"
        }
      ]
    },
    {
      "cell_type": "code",
      "metadata": {
        "id": "2a369923",
        "outputId": "c37e4d6a-45e2-4220-ca9f-1f8da917f5c1"
      },
      "source": [
        "df3"
      ],
      "id": "2a369923",
      "execution_count": null,
      "outputs": [
        {
          "data": {
            "text/html": [
              "<div>\n",
              "<style scoped>\n",
              "    .dataframe tbody tr th:only-of-type {\n",
              "        vertical-align: middle;\n",
              "    }\n",
              "\n",
              "    .dataframe tbody tr th {\n",
              "        vertical-align: top;\n",
              "    }\n",
              "\n",
              "    .dataframe thead th {\n",
              "        text-align: right;\n",
              "    }\n",
              "</style>\n",
              "<table border=\"1\" class=\"dataframe\">\n",
              "  <thead>\n",
              "    <tr style=\"text-align: right;\">\n",
              "      <th></th>\n",
              "      <th>W</th>\n",
              "      <th>X</th>\n",
              "      <th>Z</th>\n",
              "    </tr>\n",
              "  </thead>\n",
              "  <tbody>\n",
              "    <tr>\n",
              "      <th>A</th>\n",
              "      <td>2.706850</td>\n",
              "      <td>0.628133</td>\n",
              "      <td>0.503826</td>\n",
              "    </tr>\n",
              "    <tr>\n",
              "      <th>B</th>\n",
              "      <td>0.651118</td>\n",
              "      <td>-0.319318</td>\n",
              "      <td>0.605965</td>\n",
              "    </tr>\n",
              "    <tr>\n",
              "      <th>D</th>\n",
              "      <td>0.188695</td>\n",
              "      <td>-0.758872</td>\n",
              "      <td>0.955057</td>\n",
              "    </tr>\n",
              "  </tbody>\n",
              "</table>\n",
              "</div>"
            ],
            "text/plain": [
              "          W         X         Z\n",
              "A  2.706850  0.628133  0.503826\n",
              "B  0.651118 -0.319318  0.605965\n",
              "D  0.188695 -0.758872  0.955057"
            ]
          },
          "execution_count": 98,
          "metadata": {},
          "output_type": "execute_result"
        }
      ]
    },
    {
      "cell_type": "code",
      "metadata": {
        "id": "c214e1b5",
        "outputId": "a4a2341a-6299-4047-bab7-215705d2dd63"
      },
      "source": [
        "df3.iloc[:,2:4]"
      ],
      "id": "c214e1b5",
      "execution_count": null,
      "outputs": [
        {
          "data": {
            "text/html": [
              "<div>\n",
              "<style scoped>\n",
              "    .dataframe tbody tr th:only-of-type {\n",
              "        vertical-align: middle;\n",
              "    }\n",
              "\n",
              "    .dataframe tbody tr th {\n",
              "        vertical-align: top;\n",
              "    }\n",
              "\n",
              "    .dataframe thead th {\n",
              "        text-align: right;\n",
              "    }\n",
              "</style>\n",
              "<table border=\"1\" class=\"dataframe\">\n",
              "  <thead>\n",
              "    <tr style=\"text-align: right;\">\n",
              "      <th></th>\n",
              "      <th>Z</th>\n",
              "    </tr>\n",
              "  </thead>\n",
              "  <tbody>\n",
              "    <tr>\n",
              "      <th>A</th>\n",
              "      <td>0.503826</td>\n",
              "    </tr>\n",
              "    <tr>\n",
              "      <th>B</th>\n",
              "      <td>0.605965</td>\n",
              "    </tr>\n",
              "    <tr>\n",
              "      <th>D</th>\n",
              "      <td>0.955057</td>\n",
              "    </tr>\n",
              "  </tbody>\n",
              "</table>\n",
              "</div>"
            ],
            "text/plain": [
              "          Z\n",
              "A  0.503826\n",
              "B  0.605965\n",
              "D  0.955057"
            ]
          },
          "execution_count": 99,
          "metadata": {},
          "output_type": "execute_result"
        }
      ]
    },
    {
      "cell_type": "code",
      "metadata": {
        "id": "a623fe0d",
        "outputId": "128ea46b-9649-4a30-c4f8-9f36049cc571"
      },
      "source": [
        "df3[\"X\"]>0"
      ],
      "id": "a623fe0d",
      "execution_count": null,
      "outputs": [
        {
          "data": {
            "text/plain": [
              "A     True\n",
              "B    False\n",
              "D    False\n",
              "Name: X, dtype: bool"
            ]
          },
          "execution_count": 101,
          "metadata": {},
          "output_type": "execute_result"
        }
      ]
    },
    {
      "cell_type": "code",
      "metadata": {
        "id": "29c7de00",
        "outputId": "5155c53b-ddfe-4ff1-cf83-1b62f9853c46"
      },
      "source": [
        "df3[df3[\"X\"]>0]"
      ],
      "id": "29c7de00",
      "execution_count": null,
      "outputs": [
        {
          "data": {
            "text/html": [
              "<div>\n",
              "<style scoped>\n",
              "    .dataframe tbody tr th:only-of-type {\n",
              "        vertical-align: middle;\n",
              "    }\n",
              "\n",
              "    .dataframe tbody tr th {\n",
              "        vertical-align: top;\n",
              "    }\n",
              "\n",
              "    .dataframe thead th {\n",
              "        text-align: right;\n",
              "    }\n",
              "</style>\n",
              "<table border=\"1\" class=\"dataframe\">\n",
              "  <thead>\n",
              "    <tr style=\"text-align: right;\">\n",
              "      <th></th>\n",
              "      <th>W</th>\n",
              "      <th>X</th>\n",
              "      <th>Z</th>\n",
              "    </tr>\n",
              "  </thead>\n",
              "  <tbody>\n",
              "    <tr>\n",
              "      <th>A</th>\n",
              "      <td>2.70685</td>\n",
              "      <td>0.628133</td>\n",
              "      <td>0.503826</td>\n",
              "    </tr>\n",
              "  </tbody>\n",
              "</table>\n",
              "</div>"
            ],
            "text/plain": [
              "         W         X         Z\n",
              "A  2.70685  0.628133  0.503826"
            ]
          },
          "execution_count": 102,
          "metadata": {},
          "output_type": "execute_result"
        }
      ]
    },
    {
      "cell_type": "code",
      "metadata": {
        "id": "3beea2b9",
        "outputId": "c9a3ab65-38cc-426b-e2a3-3b1f1586fb34"
      },
      "source": [
        "df3[(df3[\"X\"] > 0) & (df3[\"Z\"] > 0)]"
      ],
      "id": "3beea2b9",
      "execution_count": null,
      "outputs": [
        {
          "data": {
            "text/html": [
              "<div>\n",
              "<style scoped>\n",
              "    .dataframe tbody tr th:only-of-type {\n",
              "        vertical-align: middle;\n",
              "    }\n",
              "\n",
              "    .dataframe tbody tr th {\n",
              "        vertical-align: top;\n",
              "    }\n",
              "\n",
              "    .dataframe thead th {\n",
              "        text-align: right;\n",
              "    }\n",
              "</style>\n",
              "<table border=\"1\" class=\"dataframe\">\n",
              "  <thead>\n",
              "    <tr style=\"text-align: right;\">\n",
              "      <th></th>\n",
              "      <th>W</th>\n",
              "      <th>X</th>\n",
              "      <th>Z</th>\n",
              "    </tr>\n",
              "  </thead>\n",
              "  <tbody>\n",
              "    <tr>\n",
              "      <th>A</th>\n",
              "      <td>2.70685</td>\n",
              "      <td>0.628133</td>\n",
              "      <td>0.503826</td>\n",
              "    </tr>\n",
              "  </tbody>\n",
              "</table>\n",
              "</div>"
            ],
            "text/plain": [
              "         W         X         Z\n",
              "A  2.70685  0.628133  0.503826"
            ]
          },
          "execution_count": 103,
          "metadata": {},
          "output_type": "execute_result"
        }
      ]
    },
    {
      "cell_type": "code",
      "metadata": {
        "id": "d8ac2c7b",
        "outputId": "3884b0db-1cc3-4427-de25-09c665a560ea"
      },
      "source": [
        "df3[df3.Z>0][[\"W\"]] # örneğin yaşı 20den büyük olanların maaşını getir ya da maaşı x den daha fazla olanların yaşını getir "
      ],
      "id": "d8ac2c7b",
      "execution_count": null,
      "outputs": [
        {
          "data": {
            "text/html": [
              "<div>\n",
              "<style scoped>\n",
              "    .dataframe tbody tr th:only-of-type {\n",
              "        vertical-align: middle;\n",
              "    }\n",
              "\n",
              "    .dataframe tbody tr th {\n",
              "        vertical-align: top;\n",
              "    }\n",
              "\n",
              "    .dataframe thead th {\n",
              "        text-align: right;\n",
              "    }\n",
              "</style>\n",
              "<table border=\"1\" class=\"dataframe\">\n",
              "  <thead>\n",
              "    <tr style=\"text-align: right;\">\n",
              "      <th></th>\n",
              "      <th>W</th>\n",
              "    </tr>\n",
              "  </thead>\n",
              "  <tbody>\n",
              "    <tr>\n",
              "      <th>A</th>\n",
              "      <td>2.706850</td>\n",
              "    </tr>\n",
              "    <tr>\n",
              "      <th>B</th>\n",
              "      <td>0.651118</td>\n",
              "    </tr>\n",
              "    <tr>\n",
              "      <th>D</th>\n",
              "      <td>0.188695</td>\n",
              "    </tr>\n",
              "  </tbody>\n",
              "</table>\n",
              "</div>"
            ],
            "text/plain": [
              "          W\n",
              "A  2.706850\n",
              "B  0.651118\n",
              "D  0.188695"
            ]
          },
          "execution_count": 104,
          "metadata": {},
          "output_type": "execute_result"
        }
      ]
    },
    {
      "cell_type": "code",
      "metadata": {
        "id": "4d125fb9"
      },
      "source": [
        ""
      ],
      "id": "4d125fb9",
      "execution_count": null,
      "outputs": []
    },
    {
      "cell_type": "code",
      "metadata": {
        "id": "8ad9f1ec"
      },
      "source": [
        ""
      ],
      "id": "8ad9f1ec",
      "execution_count": null,
      "outputs": []
    },
    {
      "cell_type": "code",
      "metadata": {
        "id": "08485542"
      },
      "source": [
        ""
      ],
      "id": "08485542",
      "execution_count": null,
      "outputs": []
    },
    {
      "cell_type": "code",
      "metadata": {
        "id": "be640e49"
      },
      "source": [
        ""
      ],
      "id": "be640e49",
      "execution_count": null,
      "outputs": []
    }
  ]
}