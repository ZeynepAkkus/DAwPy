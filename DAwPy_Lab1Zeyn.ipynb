{
  "nbformat": 4,
  "nbformat_minor": 0,
  "metadata": {
    "colab": {
      "name": "DAwPy-Lab1ipynb",
      "provenance": [],
      "authorship_tag": "ABX9TyPZv2NtDmPURsYcVZ32ZZ1K",
      "include_colab_link": true
    },
    "kernelspec": {
      "name": "python3",
      "display_name": "Python 3"
    },
    "language_info": {
      "name": "python"
    }
  },
  "cells": [
    {
      "cell_type": "markdown",
      "metadata": {
        "id": "view-in-github",
        "colab_type": "text"
      },
      "source": [
        "<a href=\"https://colab.research.google.com/github/ZeynepAkkus/DAwPy/blob/main/DAwPy_Lab1Zeyn.ipynb\" target=\"_parent\"><img src=\"https://colab.research.google.com/assets/colab-badge.svg\" alt=\"Open In Colab\"/></a>"
      ]
    },
    {
      "cell_type": "code",
      "metadata": {
        "id": "Afhny571YVbp"
      },
      "source": [
        "import numpy as np"
      ],
      "execution_count": 5,
      "outputs": []
    },
    {
      "cell_type": "code",
      "metadata": {
        "id": "BX5QlCOxZQTn"
      },
      "source": [
        "b = np.array([[1,2,3],[6,7,8]])"
      ],
      "execution_count": 6,
      "outputs": []
    },
    {
      "cell_type": "code",
      "metadata": {
        "colab": {
          "base_uri": "https://localhost:8080/"
        },
        "id": "8_TbXuShZQWV",
        "outputId": "82a9a606-2ecc-4d6b-ad3f-b58ba747ee45"
      },
      "source": [
        "b"
      ],
      "execution_count": 7,
      "outputs": [
        {
          "output_type": "execute_result",
          "data": {
            "text/plain": [
              "array([[1, 2, 3],\n",
              "       [6, 7, 8]])"
            ]
          },
          "metadata": {},
          "execution_count": 7
        }
      ]
    },
    {
      "cell_type": "code",
      "metadata": {
        "colab": {
          "base_uri": "https://localhost:8080/"
        },
        "id": "QwXxSk2OZQYu",
        "outputId": "d4670295-bab3-4895-d170-d0242d7146eb"
      },
      "source": [
        "np.ones((3,5))"
      ],
      "execution_count": 8,
      "outputs": [
        {
          "output_type": "execute_result",
          "data": {
            "text/plain": [
              "array([[1., 1., 1., 1., 1.],\n",
              "       [1., 1., 1., 1., 1.],\n",
              "       [1., 1., 1., 1., 1.]])"
            ]
          },
          "metadata": {},
          "execution_count": 8
        }
      ]
    },
    {
      "cell_type": "code",
      "metadata": {
        "colab": {
          "base_uri": "https://localhost:8080/"
        },
        "id": "3GYXmaV2ZQds",
        "outputId": "6dcc2540-15d2-4904-db8d-653e26bb760b"
      },
      "source": [
        "np.zeros((3,3)) # tuple değer şeklinde yazılmalı "
      ],
      "execution_count": 9,
      "outputs": [
        {
          "output_type": "execute_result",
          "data": {
            "text/plain": [
              "array([[0., 0., 0.],\n",
              "       [0., 0., 0.],\n",
              "       [0., 0., 0.]])"
            ]
          },
          "metadata": {},
          "execution_count": 9
        }
      ]
    },
    {
      "cell_type": "code",
      "metadata": {
        "colab": {
          "base_uri": "https://localhost:8080/"
        },
        "id": "5qWoCxowZQgE",
        "outputId": "7b866df7-3d04-46d0-f6ba-bc703f671097"
      },
      "source": [
        "np.full ((3,3),9)"
      ],
      "execution_count": 10,
      "outputs": [
        {
          "output_type": "execute_result",
          "data": {
            "text/plain": [
              "array([[9, 9, 9],\n",
              "       [9, 9, 9],\n",
              "       [9, 9, 9]])"
            ]
          },
          "metadata": {},
          "execution_count": 10
        }
      ]
    },
    {
      "cell_type": "code",
      "metadata": {
        "colab": {
          "base_uri": "https://localhost:8080/"
        },
        "id": "ZINFqPtcZQke",
        "outputId": "09461591-f403-4423-daec-19e4f3c68419"
      },
      "source": [
        "np.eye(4)"
      ],
      "execution_count": 11,
      "outputs": [
        {
          "output_type": "execute_result",
          "data": {
            "text/plain": [
              "array([[1., 0., 0., 0.],\n",
              "       [0., 1., 0., 0.],\n",
              "       [0., 0., 1., 0.],\n",
              "       [0., 0., 0., 1.]])"
            ]
          },
          "metadata": {},
          "execution_count": 11
        }
      ]
    },
    {
      "cell_type": "code",
      "metadata": {
        "colab": {
          "base_uri": "https://localhost:8080/"
        },
        "id": "uV9v337rZQnH",
        "outputId": "d56fee81-872c-4728-93a2-2a7f0d1f665f"
      },
      "source": [
        "np.arange(5,60,3) # arange array +range demektir"
      ],
      "execution_count": 13,
      "outputs": [
        {
          "output_type": "execute_result",
          "data": {
            "text/plain": [
              "array([ 5,  8, 11, 14, 17, 20, 23, 26, 29, 32, 35, 38, 41, 44, 47, 50, 53,\n",
              "       56, 59])"
            ]
          },
          "metadata": {},
          "execution_count": 13
        }
      ]
    },
    {
      "cell_type": "code",
      "metadata": {
        "colab": {
          "base_uri": "https://localhost:8080/"
        },
        "id": "rP_ueaEyZQrO",
        "outputId": "a38795b2-69eb-45f8-fcc3-7324ffc01d6f"
      },
      "source": [
        "np.linspace(2,10,5) # 2 den başla 10 a kadar ilerle 5 parçaya böl demek "
      ],
      "execution_count": 14,
      "outputs": [
        {
          "output_type": "execute_result",
          "data": {
            "text/plain": [
              "array([ 2.,  4.,  6.,  8., 10.])"
            ]
          },
          "metadata": {},
          "execution_count": 14
        }
      ]
    },
    {
      "cell_type": "code",
      "metadata": {
        "colab": {
          "base_uri": "https://localhost:8080/"
        },
        "id": "k_0AKsM_ZQtz",
        "outputId": "39c1d98e-9580-40ba-8d12-5370f28e232a"
      },
      "source": [
        "np.random.rand(3,3)  # ortalaması 1 olacak şekilde random sayılar verir 0-1 arası sayılar verir !!!"
      ],
      "execution_count": 15,
      "outputs": [
        {
          "output_type": "execute_result",
          "data": {
            "text/plain": [
              "array([[0.67107824, 0.24358663, 0.28431662],\n",
              "       [0.51237347, 0.20059437, 0.40476997],\n",
              "       [0.88923994, 0.03641293, 0.03612925]])"
            ]
          },
          "metadata": {},
          "execution_count": 15
        }
      ]
    },
    {
      "cell_type": "code",
      "metadata": {
        "colab": {
          "base_uri": "https://localhost:8080/"
        },
        "id": "humPvSBZbD1g",
        "outputId": "9bae17a6-ad34-45f7-ac75-5714ee6bb010"
      },
      "source": [
        "np.random.randn(3,3)   # varyansı 1 olacak şekilde sayılar verir kontrol et !!!!"
      ],
      "execution_count": 16,
      "outputs": [
        {
          "output_type": "execute_result",
          "data": {
            "text/plain": [
              "array([[ 2.55635667e-01, -2.78091381e-04,  2.92913515e-01],\n",
              "       [ 6.25781620e-01, -1.33560371e+00, -7.08100662e-01],\n",
              "       [-5.60975791e-01, -4.89426776e-01, -7.19444265e-01]])"
            ]
          },
          "metadata": {},
          "execution_count": 16
        }
      ]
    },
    {
      "cell_type": "code",
      "metadata": {
        "id": "XPGIsvYvbMqd"
      },
      "source": [
        "z = np.random.randint(2,12,size =(5,3))"
      ],
      "execution_count": 17,
      "outputs": []
    },
    {
      "cell_type": "code",
      "metadata": {
        "colab": {
          "base_uri": "https://localhost:8080/"
        },
        "id": "DbKqKlNSbbwu",
        "outputId": "c902d7f4-58c5-48ac-ae39-8bb4ed8fb6e2"
      },
      "source": [
        "z"
      ],
      "execution_count": 18,
      "outputs": [
        {
          "output_type": "execute_result",
          "data": {
            "text/plain": [
              "array([[ 9, 10,  4],\n",
              "       [ 9, 10, 10],\n",
              "       [ 9,  7,  3],\n",
              "       [ 9, 11,  5],\n",
              "       [ 7,  3,  5]])"
            ]
          },
          "metadata": {},
          "execution_count": 18
        }
      ]
    },
    {
      "cell_type": "code",
      "metadata": {
        "colab": {
          "base_uri": "https://localhost:8080/"
        },
        "id": "gFrxoX6LbbzM",
        "outputId": "263a34e8-7a7f-4689-b17d-c99af932d7b6"
      },
      "source": [
        "z.shape # ileriki seviyelerde shape bakarak deep learnine uygun olup olmadığı kontrol edilir eğer uygun değilse reshape yapılarak modele uygun hale getirirlir."
      ],
      "execution_count": 19,
      "outputs": [
        {
          "output_type": "execute_result",
          "data": {
            "text/plain": [
              "(5, 3)"
            ]
          },
          "metadata": {},
          "execution_count": 19
        }
      ]
    },
    {
      "cell_type": "code",
      "metadata": {
        "id": "idImcr6Rbb1S"
      },
      "source": [
        "z = z.reshape(3,5) # reshape yaparken katmanları olmalı yani ilk yapılan 3*5 15 ise yapılacak olan rehape de onun katmanları olmak zorundadır"
      ],
      "execution_count": 20,
      "outputs": []
    },
    {
      "cell_type": "code",
      "metadata": {
        "colab": {
          "base_uri": "https://localhost:8080/"
        },
        "id": "py7M1Vs6bb3n",
        "outputId": "fa264e7f-6e96-4e84-cf7c-760f21483feb"
      },
      "source": [
        "z"
      ],
      "execution_count": 21,
      "outputs": [
        {
          "output_type": "execute_result",
          "data": {
            "text/plain": [
              "array([[ 9, 10,  4,  9, 10],\n",
              "       [10,  9,  7,  3,  9],\n",
              "       [11,  5,  7,  3,  5]])"
            ]
          },
          "metadata": {},
          "execution_count": 21
        }
      ]
    },
    {
      "cell_type": "code",
      "metadata": {
        "id": "jjqhZtugbb5Y"
      },
      "source": [
        "z = z.reshape(-1,5) # hesaplamak istemiyorsak - yazarak kendi hesaplamasını isteyebilriz"
      ],
      "execution_count": 22,
      "outputs": []
    },
    {
      "cell_type": "code",
      "metadata": {
        "colab": {
          "base_uri": "https://localhost:8080/"
        },
        "id": "GhEySzQ7bb7Y",
        "outputId": "6efd1199-d8dd-4629-d12b-f7db02532b97"
      },
      "source": [
        "z"
      ],
      "execution_count": 23,
      "outputs": [
        {
          "output_type": "execute_result",
          "data": {
            "text/plain": [
              "array([[ 9, 10,  4,  9, 10],\n",
              "       [10,  9,  7,  3,  9],\n",
              "       [11,  5,  7,  3,  5]])"
            ]
          },
          "metadata": {},
          "execution_count": 23
        }
      ]
    },
    {
      "cell_type": "code",
      "metadata": {
        "id": "JrxiJR7cbb9W"
      },
      "source": [
        "z = z.ravel() #reshape yerine kullanabilecek alternatif bir fonksiyondur"
      ],
      "execution_count": 24,
      "outputs": []
    },
    {
      "cell_type": "code",
      "metadata": {
        "colab": {
          "base_uri": "https://localhost:8080/"
        },
        "id": "BcCKIbvccaPM",
        "outputId": "96d63ec4-f1c3-486c-c2f6-0da35beabd2a"
      },
      "source": [
        "z"
      ],
      "execution_count": 25,
      "outputs": [
        {
          "output_type": "execute_result",
          "data": {
            "text/plain": [
              "array([ 9, 10,  4,  9, 10, 10,  9,  7,  3,  9, 11,  5,  7,  3,  5])"
            ]
          },
          "metadata": {},
          "execution_count": 25
        }
      ]
    },
    {
      "cell_type": "code",
      "metadata": {
        "colab": {
          "base_uri": "https://localhost:8080/"
        },
        "id": "mxPb6vpXca7b",
        "outputId": "48ebcdbc-9832-449f-bedc-1584912fd682"
      },
      "source": [
        "z.max()"
      ],
      "execution_count": 26,
      "outputs": [
        {
          "output_type": "execute_result",
          "data": {
            "text/plain": [
              "11"
            ]
          },
          "metadata": {},
          "execution_count": 26
        }
      ]
    },
    {
      "cell_type": "code",
      "metadata": {
        "colab": {
          "base_uri": "https://localhost:8080/"
        },
        "id": "iHP7QG8Pcft8",
        "outputId": "2f0dbfa3-b8e9-4327-a36e-cf5253bd2b8d"
      },
      "source": [
        "z.min()"
      ],
      "execution_count": 27,
      "outputs": [
        {
          "output_type": "execute_result",
          "data": {
            "text/plain": [
              "3"
            ]
          },
          "metadata": {},
          "execution_count": 27
        }
      ]
    },
    {
      "cell_type": "code",
      "metadata": {
        "colab": {
          "base_uri": "https://localhost:8080/"
        },
        "id": "Hk1S460Rcfyg",
        "outputId": "9350f59a-06da-4987-cae6-525cf62fa1ea"
      },
      "source": [
        "z.argmax() # max olan sayının yerini verir"
      ],
      "execution_count": 28,
      "outputs": [
        {
          "output_type": "execute_result",
          "data": {
            "text/plain": [
              "10"
            ]
          },
          "metadata": {},
          "execution_count": 28
        }
      ]
    },
    {
      "cell_type": "code",
      "metadata": {
        "colab": {
          "base_uri": "https://localhost:8080/"
        },
        "id": "HHQ6PjSncf1E",
        "outputId": "a4eaa3b0-3ad0-47ed-a18c-52da9c9acc3b"
      },
      "source": [
        "z.argmin() # min olan sayının yerini verir"
      ],
      "execution_count": 29,
      "outputs": [
        {
          "output_type": "execute_result",
          "data": {
            "text/plain": [
              "8"
            ]
          },
          "metadata": {},
          "execution_count": 29
        }
      ]
    },
    {
      "cell_type": "code",
      "metadata": {
        "id": "NkqVZn6dc_UD"
      },
      "source": [
        "## CONCATANATE tabloları birleştirmek demektir"
      ],
      "execution_count": null,
      "outputs": []
    },
    {
      "cell_type": "code",
      "metadata": {
        "id": "4C0rfLbQcf3h"
      },
      "source": [
        "my_arr = np.array([0,1,2,3,4,5,6,7,8,9]).reshape(5,2)"
      ],
      "execution_count": 30,
      "outputs": []
    },
    {
      "cell_type": "code",
      "metadata": {
        "colab": {
          "base_uri": "https://localhost:8080/"
        },
        "id": "8ZlGn0Bxcy_U",
        "outputId": "221d1dc9-66a5-4597-e4ce-1870d36f3925"
      },
      "source": [
        "my_arr"
      ],
      "execution_count": 31,
      "outputs": [
        {
          "output_type": "execute_result",
          "data": {
            "text/plain": [
              "array([[0, 1],\n",
              "       [2, 3],\n",
              "       [4, 5],\n",
              "       [6, 7],\n",
              "       [8, 9]])"
            ]
          },
          "metadata": {},
          "execution_count": 31
        }
      ]
    },
    {
      "cell_type": "code",
      "metadata": {
        "id": "qb4jkO2TczCL"
      },
      "source": [
        "my_arrar_1 = np.array ([3,4,5,6,7,8,9,10,11,12]).reshape(5,2)"
      ],
      "execution_count": 32,
      "outputs": []
    },
    {
      "cell_type": "code",
      "metadata": {
        "colab": {
          "base_uri": "https://localhost:8080/"
        },
        "id": "OsHzlxFoczE2",
        "outputId": "cc5c141d-ea28-4bda-e22b-7504028075a1"
      },
      "source": [
        "my_arrar_1"
      ],
      "execution_count": 33,
      "outputs": [
        {
          "output_type": "execute_result",
          "data": {
            "text/plain": [
              "array([[ 3,  4],\n",
              "       [ 5,  6],\n",
              "       [ 7,  8],\n",
              "       [ 9, 10],\n",
              "       [11, 12]])"
            ]
          },
          "metadata": {},
          "execution_count": 33
        }
      ]
    },
    {
      "cell_type": "code",
      "metadata": {
        "id": "Ogn3Wnm1czHI"
      },
      "source": [
        "my_con= np.concatenate([my_arr,my_arrar_1],axis=1)"
      ],
      "execution_count": 34,
      "outputs": []
    },
    {
      "cell_type": "code",
      "metadata": {
        "colab": {
          "base_uri": "https://localhost:8080/"
        },
        "id": "8r8a4742czJv",
        "outputId": "badb5ed1-e8a8-4774-9d53-45fd5cc3ab4b"
      },
      "source": [
        "my_con"
      ],
      "execution_count": 35,
      "outputs": [
        {
          "output_type": "execute_result",
          "data": {
            "text/plain": [
              "array([[ 0,  1,  3,  4],\n",
              "       [ 2,  3,  5,  6],\n",
              "       [ 4,  5,  7,  8],\n",
              "       [ 6,  7,  9, 10],\n",
              "       [ 8,  9, 11, 12]])"
            ]
          },
          "metadata": {},
          "execution_count": 35
        }
      ]
    },
    {
      "cell_type": "code",
      "metadata": {
        "colab": {
          "base_uri": "https://localhost:8080/"
        },
        "id": "8WB3FYz4czL5",
        "outputId": "35590467-0b81-483d-c084-aab5a1acc940"
      },
      "source": [
        "my_con[1,[2,3]] # 1.satır 2.sütun"
      ],
      "execution_count": 36,
      "outputs": [
        {
          "output_type": "execute_result",
          "data": {
            "text/plain": [
              "array([5, 6])"
            ]
          },
          "metadata": {},
          "execution_count": 36
        }
      ]
    },
    {
      "cell_type": "code",
      "metadata": {
        "colab": {
          "base_uri": "https://localhost:8080/"
        },
        "id": "Uitu92Aecf51",
        "outputId": "909ef2cf-279a-43f2-dacb-23ebecf99297"
      },
      "source": [
        "my_con[[3,1],2]"
      ],
      "execution_count": 37,
      "outputs": [
        {
          "output_type": "execute_result",
          "data": {
            "text/plain": [
              "array([9, 5])"
            ]
          },
          "metadata": {},
          "execution_count": 37
        }
      ]
    },
    {
      "cell_type": "code",
      "metadata": {
        "colab": {
          "base_uri": "https://localhost:8080/"
        },
        "id": "rnmANk4Scf8G",
        "outputId": "5695b327-7bc3-4777-efd0-e405e165202b"
      },
      "source": [
        "my_con[0:2,1:3] # kısmi slincing 0 dan 2 ye kadar - 1 den 3 e kadar "
      ],
      "execution_count": 38,
      "outputs": [
        {
          "output_type": "execute_result",
          "data": {
            "text/plain": [
              "array([[1, 3],\n",
              "       [3, 5]])"
            ]
          },
          "metadata": {},
          "execution_count": 38
        }
      ]
    },
    {
      "cell_type": "code",
      "metadata": {
        "colab": {
          "base_uri": "https://localhost:8080/"
        },
        "id": "E60CeUgdcf-T",
        "outputId": "c74e6295-aca9-44c5-83fd-1cfdb76545c1"
      },
      "source": [
        "my_con[:,[0,3]]"
      ],
      "execution_count": 39,
      "outputs": [
        {
          "output_type": "execute_result",
          "data": {
            "text/plain": [
              "array([[ 0,  4],\n",
              "       [ 2,  6],\n",
              "       [ 4,  8],\n",
              "       [ 6, 10],\n",
              "       [ 8, 12]])"
            ]
          },
          "metadata": {},
          "execution_count": 39
        }
      ]
    },
    {
      "cell_type": "code",
      "metadata": {
        "id": "EOgLhgftcgA2"
      },
      "source": [
        "##stacking"
      ],
      "execution_count": null,
      "outputs": []
    },
    {
      "cell_type": "code",
      "metadata": {
        "id": "ugRb3ZKMeaLX"
      },
      "source": [
        "a = np.array([[1,2], [3,4]])\n",
        "b = np.array([[5,6], [7,8]])"
      ],
      "execution_count": 41,
      "outputs": []
    },
    {
      "cell_type": "code",
      "metadata": {
        "colab": {
          "base_uri": "https://localhost:8080/"
        },
        "id": "GvdB938ReaTc",
        "outputId": "81d04c0f-aadf-444b-c33a-19c4fe950e4f"
      },
      "source": [
        "a"
      ],
      "execution_count": 42,
      "outputs": [
        {
          "output_type": "execute_result",
          "data": {
            "text/plain": [
              "array([[1, 2],\n",
              "       [3, 4]])"
            ]
          },
          "metadata": {},
          "execution_count": 42
        }
      ]
    },
    {
      "cell_type": "code",
      "metadata": {
        "colab": {
          "base_uri": "https://localhost:8080/"
        },
        "id": "DZcY_IpSeaWB",
        "outputId": "61f55537-e489-4d1b-c66c-c84a77f8dcd9"
      },
      "source": [
        "b"
      ],
      "execution_count": 43,
      "outputs": [
        {
          "output_type": "execute_result",
          "data": {
            "text/plain": [
              "array([[5, 6],\n",
              "       [7, 8]])"
            ]
          },
          "metadata": {},
          "execution_count": 43
        }
      ]
    },
    {
      "cell_type": "code",
      "metadata": {
        "colab": {
          "base_uri": "https://localhost:8080/"
        },
        "id": "MY_EJ00teaYX",
        "outputId": "4782ea43-fcee-4813-b1ed-f32b93274c57"
      },
      "source": [
        "x = np.stack((a,b))\n",
        "x"
      ],
      "execution_count": 44,
      "outputs": [
        {
          "output_type": "execute_result",
          "data": {
            "text/plain": [
              "array([[[1, 2],\n",
              "        [3, 4]],\n",
              "\n",
              "       [[5, 6],\n",
              "        [7, 8]]])"
            ]
          },
          "metadata": {},
          "execution_count": 44
        }
      ]
    },
    {
      "cell_type": "code",
      "metadata": {
        "colab": {
          "base_uri": "https://localhost:8080/"
        },
        "id": "nuBzyN2Yeaai",
        "outputId": "7244d27c-9fbd-41d3-9944-0ef685b066e0"
      },
      "source": [
        "x.ndim"
      ],
      "execution_count": 45,
      "outputs": [
        {
          "output_type": "execute_result",
          "data": {
            "text/plain": [
              "3"
            ]
          },
          "metadata": {},
          "execution_count": 45
        }
      ]
    },
    {
      "cell_type": "code",
      "metadata": {
        "colab": {
          "base_uri": "https://localhost:8080/"
        },
        "id": "r-UuR1gje1zR",
        "outputId": "0bbd4e4e-9364-4a0e-f3d8-f848009c2a03"
      },
      "source": [
        "x.shape"
      ],
      "execution_count": 46,
      "outputs": [
        {
          "output_type": "execute_result",
          "data": {
            "text/plain": [
              "(2, 2, 2)"
            ]
          },
          "metadata": {},
          "execution_count": 46
        }
      ]
    },
    {
      "cell_type": "code",
      "metadata": {
        "id": "KgBxS2GYe135"
      },
      "source": [
        "y=np.hstack((a,b)) # h yatay demek olduğu için işlem yönünü gösterir yatayda eklemleme yapar 3 boyutlu şekilde"
      ],
      "execution_count": 47,
      "outputs": []
    },
    {
      "cell_type": "code",
      "metadata": {
        "colab": {
          "base_uri": "https://localhost:8080/"
        },
        "id": "3TAEhgS5e16T",
        "outputId": "cc5d7949-e6c3-4678-a84a-cb7acfc720ec"
      },
      "source": [
        "y"
      ],
      "execution_count": 48,
      "outputs": [
        {
          "output_type": "execute_result",
          "data": {
            "text/plain": [
              "array([[1, 2, 5, 6],\n",
              "       [3, 4, 7, 8]])"
            ]
          },
          "metadata": {},
          "execution_count": 48
        }
      ]
    },
    {
      "cell_type": "code",
      "metadata": {
        "colab": {
          "base_uri": "https://localhost:8080/"
        },
        "id": "Nw8tVCHje18i",
        "outputId": "1351ce85-3304-4491-e9fc-ac5770660c50"
      },
      "source": [
        "y=np.vstack((a,b))\n",
        "y"
      ],
      "execution_count": 49,
      "outputs": [
        {
          "output_type": "execute_result",
          "data": {
            "text/plain": [
              "array([[1, 2],\n",
              "       [3, 4],\n",
              "       [5, 6],\n",
              "       [7, 8]])"
            ]
          },
          "metadata": {},
          "execution_count": 49
        }
      ]
    },
    {
      "cell_type": "code",
      "metadata": {
        "id": "slrhDnxje1_Q"
      },
      "source": [
        "array_1 = np.array([[1,2,3,4],\n",
        "                    [5,6,7,8],\n",
        "                    [9,10,11,12]])"
      ],
      "execution_count": 50,
      "outputs": []
    },
    {
      "cell_type": "code",
      "metadata": {
        "colab": {
          "base_uri": "https://localhost:8080/"
        },
        "id": "xAIbZQqMe2CI",
        "outputId": "c822ab07-9b64-4106-b9b3-8b07929a1656"
      },
      "source": [
        "biggerthan5 = array_1>5\n",
        "biggerthan5"
      ],
      "execution_count": 53,
      "outputs": [
        {
          "output_type": "execute_result",
          "data": {
            "text/plain": [
              "array([[False, False, False, False],\n",
              "       [False,  True,  True,  True],\n",
              "       [ True,  True,  True,  True]])"
            ]
          },
          "metadata": {},
          "execution_count": 53
        }
      ]
    },
    {
      "cell_type": "code",
      "metadata": {
        "colab": {
          "base_uri": "https://localhost:8080/"
        },
        "id": "7KOspTC-eafX",
        "outputId": "4d1de3d5-b5e5-45a9-a909-97f4808fadd5"
      },
      "source": [
        "array_1[biggerthan5]"
      ],
      "execution_count": 54,
      "outputs": [
        {
          "output_type": "execute_result",
          "data": {
            "text/plain": [
              "array([ 6,  7,  8,  9, 10, 11, 12])"
            ]
          },
          "metadata": {},
          "execution_count": 54
        }
      ]
    },
    {
      "cell_type": "code",
      "metadata": {
        "colab": {
          "base_uri": "https://localhost:8080/"
        },
        "id": "fDnNvnG7eaiL",
        "outputId": "5433485f-1f01-4de3-d01c-70ca1ec47a38"
      },
      "source": [
        "array_1[array_1<5]"
      ],
      "execution_count": 55,
      "outputs": [
        {
          "output_type": "execute_result",
          "data": {
            "text/plain": [
              "array([1, 2, 3, 4])"
            ]
          },
          "metadata": {},
          "execution_count": 55
        }
      ]
    },
    {
      "cell_type": "code",
      "metadata": {
        "colab": {
          "base_uri": "https://localhost:8080/"
        },
        "id": "hkPfjR7LgPOc",
        "outputId": "51acba9f-cef1-43df-e67a-d46b40cd74a6"
      },
      "source": [
        "array_1[(array_1<10)& (array_1>3)] # bu şeilde çiftli çoklu filktrelemede yapabilriiz"
      ],
      "execution_count": 56,
      "outputs": [
        {
          "output_type": "execute_result",
          "data": {
            "text/plain": [
              "array([4, 5, 6, 7, 8, 9])"
            ]
          },
          "metadata": {},
          "execution_count": 56
        }
      ]
    },
    {
      "cell_type": "code",
      "metadata": {
        "id": "kXytMkcTgVT_"
      },
      "source": [
        "x = np.array([[1,2], [3,4]])\n",
        "y = np.array([[5,6], [7,8]])"
      ],
      "execution_count": null,
      "outputs": []
    },
    {
      "cell_type": "code",
      "metadata": {
        "colab": {
          "base_uri": "https://localhost:8080/"
        },
        "id": "p6NkDCp3gVWm",
        "outputId": "2b96c4da-6410-40d1-cc3d-34e61c3effb4"
      },
      "source": [
        "np.exp(x)\n"
      ],
      "execution_count": 57,
      "outputs": [
        {
          "output_type": "execute_result",
          "data": {
            "text/plain": [
              "array([[[2.71828183e+00, 7.38905610e+00],\n",
              "        [2.00855369e+01, 5.45981500e+01]],\n",
              "\n",
              "       [[1.48413159e+02, 4.03428793e+02],\n",
              "        [1.09663316e+03, 2.98095799e+03]]])"
            ]
          },
          "metadata": {},
          "execution_count": 57
        }
      ]
    },
    {
      "cell_type": "code",
      "metadata": {
        "id": "uU7zmbDsgVZy"
      },
      "source": [
        "import pandas as pd"
      ],
      "execution_count": 58,
      "outputs": []
    },
    {
      "cell_type": "code",
      "metadata": {
        "colab": {
          "base_uri": "https://localhost:8080/"
        },
        "id": "Ci8f62ofgVb0",
        "outputId": "4ea989cb-fb4a-4103-9bde-965502cebb2c"
      },
      "source": [
        "my_list = [1,2,3,4,5,6,7,8]\n",
        "a=np.array(my_list)\n",
        "a"
      ],
      "execution_count": 59,
      "outputs": [
        {
          "output_type": "execute_result",
          "data": {
            "text/plain": [
              "array([1, 2, 3, 4, 5, 6, 7, 8])"
            ]
          },
          "metadata": {},
          "execution_count": 59
        }
      ]
    },
    {
      "cell_type": "code",
      "metadata": {
        "colab": {
          "base_uri": "https://localhost:8080/"
        },
        "id": "xozTXofzgVeY",
        "outputId": "cf7bb0f1-9bd5-4236-99a8-535c7951ee78"
      },
      "source": [
        "pd.Series(my_list) # labellanmış array deniliyor direk inexliyor pandas ve int olmak zorunda değil "
      ],
      "execution_count": 60,
      "outputs": [
        {
          "output_type": "execute_result",
          "data": {
            "text/plain": [
              "0    1\n",
              "1    2\n",
              "2    3\n",
              "3    4\n",
              "4    5\n",
              "5    6\n",
              "6    7\n",
              "7    8\n",
              "dtype: int64"
            ]
          },
          "metadata": {},
          "execution_count": 60
        }
      ]
    },
    {
      "cell_type": "code",
      "metadata": {
        "id": "iAGUYvktiAzA"
      },
      "source": [
        "labels = ['X','y','z', 'h']\n",
        "my_list = [5, 10, 15, 20]\n",
        "arr = np.array([25, 50, 75, 100])\n",
        "d = {'a': 10, 'b': 20, 'c': 30, 'd':40}"
      ],
      "execution_count": 61,
      "outputs": []
    },
    {
      "cell_type": "code",
      "metadata": {
        "colab": {
          "base_uri": "https://localhost:8080/"
        },
        "id": "vvGxT3sbiA1w",
        "outputId": "9ae67bf2-0e12-43eb-aef2-4682bac1fd06"
      },
      "source": [
        "pd.Series(my_list,index=labels) #bu sayede artık serimize x y z h üzerinden ulaşabiliriz"
      ],
      "execution_count": 62,
      "outputs": [
        {
          "output_type": "execute_result",
          "data": {
            "text/plain": [
              "X     5\n",
              "y    10\n",
              "z    15\n",
              "h    20\n",
              "dtype: int64"
            ]
          },
          "metadata": {},
          "execution_count": 62
        }
      ]
    },
    {
      "cell_type": "code",
      "metadata": {
        "colab": {
          "base_uri": "https://localhost:8080/"
        },
        "id": "YgZZzdxuiA4K",
        "outputId": "b890150f-829b-4836-e6e2-7e4b5227cc08"
      },
      "source": [
        "pd.Series(arr)"
      ],
      "execution_count": 63,
      "outputs": [
        {
          "output_type": "execute_result",
          "data": {
            "text/plain": [
              "0     25\n",
              "1     50\n",
              "2     75\n",
              "3    100\n",
              "dtype: int64"
            ]
          },
          "metadata": {},
          "execution_count": 63
        }
      ]
    },
    {
      "cell_type": "code",
      "metadata": {
        "id": "eeqsmCeuiA9H"
      },
      "source": [
        "# keylerle de ulaşılabiliyor "
      ],
      "execution_count": null,
      "outputs": []
    },
    {
      "cell_type": "code",
      "metadata": {
        "colab": {
          "base_uri": "https://localhost:8080/"
        },
        "id": "Liu0j_usiBAc",
        "outputId": "74b80fbf-0706-4026-e610-ba97bd0f527a"
      },
      "source": [
        "pd.Series(d)"
      ],
      "execution_count": 64,
      "outputs": [
        {
          "output_type": "execute_result",
          "data": {
            "text/plain": [
              "a    10\n",
              "b    20\n",
              "c    30\n",
              "d    40\n",
              "dtype: int64"
            ]
          },
          "metadata": {},
          "execution_count": 64
        }
      ]
    },
    {
      "cell_type": "code",
      "metadata": {
        "id": "6s16J-o4iBB8"
      },
      "source": [
        "mix_data = [7,\"dog\",False,np.arange]"
      ],
      "execution_count": 65,
      "outputs": []
    },
    {
      "cell_type": "code",
      "metadata": {
        "id": "fOrcN4BViBEG"
      },
      "source": [
        "ser = pd.Series([5,10,15,20,25,30], index = ['USA', 'Germany','France', 'UK','Turkey','Greece'])"
      ],
      "execution_count": 66,
      "outputs": []
    },
    {
      "cell_type": "code",
      "metadata": {
        "colab": {
          "base_uri": "https://localhost:8080/"
        },
        "id": "voiSOB2QiBGu",
        "outputId": "a4d900dd-a836-4539-ca58-78156ade2c21"
      },
      "source": [
        "ser"
      ],
      "execution_count": 67,
      "outputs": [
        {
          "output_type": "execute_result",
          "data": {
            "text/plain": [
              "USA         5\n",
              "Germany    10\n",
              "France     15\n",
              "UK         20\n",
              "Turkey     25\n",
              "Greece     30\n",
              "dtype: int64"
            ]
          },
          "metadata": {},
          "execution_count": 67
        }
      ]
    },
    {
      "cell_type": "code",
      "metadata": {
        "colab": {
          "base_uri": "https://localhost:8080/"
        },
        "id": "qeDHuIEcgVhd",
        "outputId": "1d983f17-19db-4233-a5a4-33c8f582d5b5"
      },
      "source": [
        "ser.sort_values()"
      ],
      "execution_count": 69,
      "outputs": [
        {
          "output_type": "execute_result",
          "data": {
            "text/plain": [
              "USA         5\n",
              "Germany    10\n",
              "France     15\n",
              "UK         20\n",
              "Turkey     25\n",
              "Greece     30\n",
              "dtype: int64"
            ]
          },
          "metadata": {},
          "execution_count": 69
        }
      ]
    },
    {
      "cell_type": "code",
      "metadata": {
        "colab": {
          "base_uri": "https://localhost:8080/"
        },
        "id": "AR5TsuhggVjo",
        "outputId": "b7a6d7aa-caa9-4329-98ac-c2e290d80454"
      },
      "source": [
        "ser.sort_index()"
      ],
      "execution_count": 70,
      "outputs": [
        {
          "output_type": "execute_result",
          "data": {
            "text/plain": [
              "France     15\n",
              "Germany    10\n",
              "Greece     30\n",
              "Turkey     25\n",
              "UK         20\n",
              "USA         5\n",
              "dtype: int64"
            ]
          },
          "metadata": {},
          "execution_count": 70
        }
      ]
    },
    {
      "cell_type": "code",
      "metadata": {
        "colab": {
          "base_uri": "https://localhost:8080/"
        },
        "id": "8Rfye2TjgVmL",
        "outputId": "97bb6d3c-6574-441e-e35d-6345fa2f236a"
      },
      "source": [
        "\"Holand\"in ser"
      ],
      "execution_count": 71,
      "outputs": [
        {
          "output_type": "execute_result",
          "data": {
            "text/plain": [
              "False"
            ]
          },
          "metadata": {},
          "execution_count": 71
        }
      ]
    },
    {
      "cell_type": "code",
      "metadata": {
        "colab": {
          "base_uri": "https://localhost:8080/"
        },
        "id": "-H5R64-0gVpF",
        "outputId": "b6930129-a08b-467a-a25e-9476f355e1a1"
      },
      "source": [
        "ser.isin([25])"
      ],
      "execution_count": 85,
      "outputs": [
        {
          "output_type": "execute_result",
          "data": {
            "text/plain": [
              "USA        False\n",
              "Germany    False\n",
              "France     False\n",
              "UK         False\n",
              "Turkey      True\n",
              "Greece     False\n",
              "dtype: bool"
            ]
          },
          "metadata": {},
          "execution_count": 85
        }
      ]
    },
    {
      "cell_type": "code",
      "metadata": {
        "colab": {
          "base_uri": "https://localhost:8080/"
        },
        "id": "4JatGb-Dj6py",
        "outputId": "1a734dde-2515-40f4-f9be-46ac3ffc5ab7"
      },
      "source": [
        "ser.keys()"
      ],
      "execution_count": 73,
      "outputs": [
        {
          "output_type": "execute_result",
          "data": {
            "text/plain": [
              "Index(['USA', 'Germany', 'France', 'UK', 'Turkey', 'Greece'], dtype='object')"
            ]
          },
          "metadata": {},
          "execution_count": 73
        }
      ]
    },
    {
      "cell_type": "code",
      "metadata": {
        "colab": {
          "base_uri": "https://localhost:8080/"
        },
        "id": "j2-RB-v4j9M5",
        "outputId": "dfefea87-2989-4b28-e6b0-6eff041a7c18"
      },
      "source": [
        "ser.items"
      ],
      "execution_count": 74,
      "outputs": [
        {
          "output_type": "execute_result",
          "data": {
            "text/plain": [
              "<bound method Series.items of USA         5\n",
              "Germany    10\n",
              "France     15\n",
              "UK         20\n",
              "Turkey     25\n",
              "Greece     30\n",
              "dtype: int64>"
            ]
          },
          "metadata": {},
          "execution_count": 74
        }
      ]
    },
    {
      "cell_type": "code",
      "metadata": {
        "colab": {
          "base_uri": "https://localhost:8080/"
        },
        "id": "l5Ne6iULj-zD",
        "outputId": "0eeffe67-d5c7-4172-82f9-c68045561827"
      },
      "source": [
        "for key,value in ser.items():\n",
        "  print(key,value)"
      ],
      "execution_count": 76,
      "outputs": [
        {
          "output_type": "stream",
          "name": "stdout",
          "text": [
            "USA 5\n",
            "Germany 10\n",
            "France 15\n",
            "UK 20\n",
            "Turkey 25\n",
            "Greece 30\n"
          ]
        }
      ]
    },
    {
      "cell_type": "code",
      "metadata": {
        "id": "AxXTmkxQkDKW"
      },
      "source": [
        "m = np.arange(1,30,2).reshape((3,5))"
      ],
      "execution_count": 77,
      "outputs": []
    },
    {
      "cell_type": "code",
      "metadata": {
        "colab": {
          "base_uri": "https://localhost:8080/"
        },
        "id": "LvFuLFxKkQ1z",
        "outputId": "dcefb1c6-a9aa-4b50-fcba-4719a3d14736"
      },
      "source": [
        "m"
      ],
      "execution_count": 78,
      "outputs": [
        {
          "output_type": "execute_result",
          "data": {
            "text/plain": [
              "array([[ 1,  3,  5,  7,  9],\n",
              "       [11, 13, 15, 17, 19],\n",
              "       [21, 23, 25, 27, 29]])"
            ]
          },
          "metadata": {},
          "execution_count": 78
        }
      ]
    },
    {
      "cell_type": "code",
      "metadata": {
        "colab": {
          "base_uri": "https://localhost:8080/",
          "height": 142
        },
        "id": "1o0ZV21EkRij",
        "outputId": "d71260c8-c9c0-4a97-c959-1a03035429b6"
      },
      "source": [
        "df= pd.DataFrame(m,columns= [\"col1\",\"col2\",\"col3\",\"col4\",\"col5\"])\n",
        "df"
      ],
      "execution_count": 81,
      "outputs": [
        {
          "output_type": "execute_result",
          "data": {
            "text/html": [
              "<div>\n",
              "<style scoped>\n",
              "    .dataframe tbody tr th:only-of-type {\n",
              "        vertical-align: middle;\n",
              "    }\n",
              "\n",
              "    .dataframe tbody tr th {\n",
              "        vertical-align: top;\n",
              "    }\n",
              "\n",
              "    .dataframe thead th {\n",
              "        text-align: right;\n",
              "    }\n",
              "</style>\n",
              "<table border=\"1\" class=\"dataframe\">\n",
              "  <thead>\n",
              "    <tr style=\"text-align: right;\">\n",
              "      <th></th>\n",
              "      <th>col1</th>\n",
              "      <th>col2</th>\n",
              "      <th>col3</th>\n",
              "      <th>col4</th>\n",
              "      <th>col5</th>\n",
              "    </tr>\n",
              "  </thead>\n",
              "  <tbody>\n",
              "    <tr>\n",
              "      <th>0</th>\n",
              "      <td>1</td>\n",
              "      <td>3</td>\n",
              "      <td>5</td>\n",
              "      <td>7</td>\n",
              "      <td>9</td>\n",
              "    </tr>\n",
              "    <tr>\n",
              "      <th>1</th>\n",
              "      <td>11</td>\n",
              "      <td>13</td>\n",
              "      <td>15</td>\n",
              "      <td>17</td>\n",
              "      <td>19</td>\n",
              "    </tr>\n",
              "    <tr>\n",
              "      <th>2</th>\n",
              "      <td>21</td>\n",
              "      <td>23</td>\n",
              "      <td>25</td>\n",
              "      <td>27</td>\n",
              "      <td>29</td>\n",
              "    </tr>\n",
              "  </tbody>\n",
              "</table>\n",
              "</div>"
            ],
            "text/plain": [
              "   col1  col2  col3  col4  col5\n",
              "0     1     3     5     7     9\n",
              "1    11    13    15    17    19\n",
              "2    21    23    25    27    29"
            ]
          },
          "metadata": {},
          "execution_count": 81
        }
      ]
    },
    {
      "cell_type": "code",
      "metadata": {
        "colab": {
          "base_uri": "https://localhost:8080/",
          "height": 80
        },
        "id": "pUZ7TOLvkjzY",
        "outputId": "760673af-b740-4a0b-f18e-544b7a73a408"
      },
      "source": [
        "df.head(1)"
      ],
      "execution_count": 82,
      "outputs": [
        {
          "output_type": "execute_result",
          "data": {
            "text/html": [
              "<div>\n",
              "<style scoped>\n",
              "    .dataframe tbody tr th:only-of-type {\n",
              "        vertical-align: middle;\n",
              "    }\n",
              "\n",
              "    .dataframe tbody tr th {\n",
              "        vertical-align: top;\n",
              "    }\n",
              "\n",
              "    .dataframe thead th {\n",
              "        text-align: right;\n",
              "    }\n",
              "</style>\n",
              "<table border=\"1\" class=\"dataframe\">\n",
              "  <thead>\n",
              "    <tr style=\"text-align: right;\">\n",
              "      <th></th>\n",
              "      <th>col1</th>\n",
              "      <th>col2</th>\n",
              "      <th>col3</th>\n",
              "      <th>col4</th>\n",
              "      <th>col5</th>\n",
              "    </tr>\n",
              "  </thead>\n",
              "  <tbody>\n",
              "    <tr>\n",
              "      <th>0</th>\n",
              "      <td>1</td>\n",
              "      <td>3</td>\n",
              "      <td>5</td>\n",
              "      <td>7</td>\n",
              "      <td>9</td>\n",
              "    </tr>\n",
              "  </tbody>\n",
              "</table>\n",
              "</div>"
            ],
            "text/plain": [
              "   col1  col2  col3  col4  col5\n",
              "0     1     3     5     7     9"
            ]
          },
          "metadata": {},
          "execution_count": 82
        }
      ]
    },
    {
      "cell_type": "code",
      "metadata": {
        "colab": {
          "base_uri": "https://localhost:8080/",
          "height": 110
        },
        "id": "ZcZU-NJ4k10L",
        "outputId": "fe003d69-4acf-47da-b786-1fc2bb1ec76a"
      },
      "source": [
        "df.tail(2)"
      ],
      "execution_count": 83,
      "outputs": [
        {
          "output_type": "execute_result",
          "data": {
            "text/html": [
              "<div>\n",
              "<style scoped>\n",
              "    .dataframe tbody tr th:only-of-type {\n",
              "        vertical-align: middle;\n",
              "    }\n",
              "\n",
              "    .dataframe tbody tr th {\n",
              "        vertical-align: top;\n",
              "    }\n",
              "\n",
              "    .dataframe thead th {\n",
              "        text-align: right;\n",
              "    }\n",
              "</style>\n",
              "<table border=\"1\" class=\"dataframe\">\n",
              "  <thead>\n",
              "    <tr style=\"text-align: right;\">\n",
              "      <th></th>\n",
              "      <th>col1</th>\n",
              "      <th>col2</th>\n",
              "      <th>col3</th>\n",
              "      <th>col4</th>\n",
              "      <th>col5</th>\n",
              "    </tr>\n",
              "  </thead>\n",
              "  <tbody>\n",
              "    <tr>\n",
              "      <th>1</th>\n",
              "      <td>11</td>\n",
              "      <td>13</td>\n",
              "      <td>15</td>\n",
              "      <td>17</td>\n",
              "      <td>19</td>\n",
              "    </tr>\n",
              "    <tr>\n",
              "      <th>2</th>\n",
              "      <td>21</td>\n",
              "      <td>23</td>\n",
              "      <td>25</td>\n",
              "      <td>27</td>\n",
              "      <td>29</td>\n",
              "    </tr>\n",
              "  </tbody>\n",
              "</table>\n",
              "</div>"
            ],
            "text/plain": [
              "   col1  col2  col3  col4  col5\n",
              "1    11    13    15    17    19\n",
              "2    21    23    25    27    29"
            ]
          },
          "metadata": {},
          "execution_count": 83
        }
      ]
    },
    {
      "cell_type": "code",
      "metadata": {
        "colab": {
          "base_uri": "https://localhost:8080/",
          "height": 110
        },
        "id": "98-vyJTvk36x",
        "outputId": "10c28a8e-3550-46e7-e8a3-1372d7bb9c09"
      },
      "source": [
        "df.sample(2)"
      ],
      "execution_count": 84,
      "outputs": [
        {
          "output_type": "execute_result",
          "data": {
            "text/html": [
              "<div>\n",
              "<style scoped>\n",
              "    .dataframe tbody tr th:only-of-type {\n",
              "        vertical-align: middle;\n",
              "    }\n",
              "\n",
              "    .dataframe tbody tr th {\n",
              "        vertical-align: top;\n",
              "    }\n",
              "\n",
              "    .dataframe thead th {\n",
              "        text-align: right;\n",
              "    }\n",
              "</style>\n",
              "<table border=\"1\" class=\"dataframe\">\n",
              "  <thead>\n",
              "    <tr style=\"text-align: right;\">\n",
              "      <th></th>\n",
              "      <th>col1</th>\n",
              "      <th>col2</th>\n",
              "      <th>col3</th>\n",
              "      <th>col4</th>\n",
              "      <th>col5</th>\n",
              "    </tr>\n",
              "  </thead>\n",
              "  <tbody>\n",
              "    <tr>\n",
              "      <th>1</th>\n",
              "      <td>11</td>\n",
              "      <td>13</td>\n",
              "      <td>15</td>\n",
              "      <td>17</td>\n",
              "      <td>19</td>\n",
              "    </tr>\n",
              "    <tr>\n",
              "      <th>0</th>\n",
              "      <td>1</td>\n",
              "      <td>3</td>\n",
              "      <td>5</td>\n",
              "      <td>7</td>\n",
              "      <td>9</td>\n",
              "    </tr>\n",
              "  </tbody>\n",
              "</table>\n",
              "</div>"
            ],
            "text/plain": [
              "   col1  col2  col3  col4  col5\n",
              "1    11    13    15    17    19\n",
              "0     1     3     5     7     9"
            ]
          },
          "metadata": {},
          "execution_count": 84
        }
      ]
    },
    {
      "cell_type": "code",
      "metadata": {
        "id": "gOvlSmaZk6Af"
      },
      "source": [
        ""
      ],
      "execution_count": null,
      "outputs": []
    }
  ]
}